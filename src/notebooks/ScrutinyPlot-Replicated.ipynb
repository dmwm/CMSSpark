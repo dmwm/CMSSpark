{
 "cells": [
  {
   "cell_type": "markdown",
   "metadata": {},
   "source": [
    "## Params\n",
    "start dates of each interval and end date. "
   ]
  },
  {
   "cell_type": "code",
   "execution_count": 1,
   "metadata": {},
   "outputs": [],
   "source": [
    "import os\n",
    "import re\n",
    "from datetime import datetime"
   ]
  },
  {
   "cell_type": "code",
   "execution_count": 2,
   "metadata": {},
   "outputs": [],
   "source": [
    "import pandas as pd\n",
    "import numpy as np\n",
    "from matplotlib import pyplot\n",
    "import seaborn as sns\n",
    "\n",
    "\n",
    "from pyspark import SQLContext\n",
    "from pyspark.sql.functions import input_file_name, regexp_extract, concat\n",
    "from pyspark.sql.functions import udf\n",
    "from pyspark.sql.types import StringType"
   ]
  },
  {
   "cell_type": "code",
   "execution_count": 3,
   "metadata": {},
   "outputs": [],
   "source": [
    "start_date = '20180301'\n",
    "end_date = '20190228'\n",
    "midterm = '20181001'\n",
    "lastQuarter = '20181201'\n",
    "base = './data'"
   ]
  },
  {
   "cell_type": "markdown",
   "metadata": {},
   "source": [
    "# Read files\n",
    "I will take the files from the analytix HDFS (in order to use it in swan without copy the files)"
   ]
  },
  {
   "cell_type": "code",
   "execution_count": 4,
   "metadata": {},
   "outputs": [],
   "source": [
    "# local directory for the phedex dataset (gz)\n",
    "phedexInput = os.path.join(base, \"popularity/phedex_{}_{}.csv.gz\".format(start_date, end_date))\n",
    "eventsInput = os.path.join(base, \"popularity/dbs_events.csv.gz\")\n",
    "\n",
    "# HDFS location of dbs events input dataframe \n",
    "dbsInput = \"/cms/dbs_condor/dataset/201*/*/*/part-*\"\n",
    "\n",
    "# Take into account only replicas in T1 and T2 sites. \n",
    "onlyT1_T2 = True"
   ]
  },
  {
   "cell_type": "code",
   "execution_count": 5,
   "metadata": {
    "scrolled": false
   },
   "outputs": [
    {
     "data": {
      "text/html": [
       "\n",
       "        <div>\n",
       "            <p><b>SparkContext</b></p>\n",
       "\n",
       "            <p><a href=\"http://swan-proto4.cern.ch:42506\">Spark UI</a></p>\n",
       "\n",
       "            <dl>\n",
       "              <dt>Version</dt>\n",
       "                <dd><code>v2.3.1</code></dd>\n",
       "              <dt>Master</dt>\n",
       "                <dd><code>yarn</code></dd>\n",
       "              <dt>AppName</dt>\n",
       "                <dd><code>pyspark_shell_swan</code></dd>\n",
       "            </dl>\n",
       "        </div>\n",
       "        "
      ],
      "text/plain": [
       "<SparkContext master=yarn appName=pyspark_shell_swan>"
      ]
     },
     "execution_count": 5,
     "metadata": {},
     "output_type": "execute_result"
    }
   ],
   "source": [
    "sc"
   ]
  },
  {
   "cell_type": "markdown",
   "metadata": {},
   "source": [
    "# Read  dbs_condor dataset\n",
    "\n",
    "This dataset, stored in hdfs, will be the base to determine the use of the datasets."
   ]
  },
  {
   "cell_type": "code",
   "execution_count": 6,
   "metadata": {},
   "outputs": [],
   "source": [
    "dbs_df = spark.read.csv(dbsInput, header=True)\\\n",
    "        .select(u'dataset', 'sum_evts')\\\n",
    "        .withColumn('filename',input_file_name())"
   ]
  },
  {
   "cell_type": "markdown",
   "metadata": {},
   "source": [
    "## Filter the dataset\n",
    "\n",
    "We are only interested on records with datasets. There should be no records with dataset and without events (but currently there are).\n",
    "\n",
    "By default, spark takes empty strings as null. In the current version there are rendered as the \"null\" string instead of null value (this will change on another versions). "
   ]
  },
  {
   "cell_type": "code",
   "execution_count": 7,
   "metadata": {},
   "outputs": [],
   "source": [
    "# Are there records with dataset but without events (empty sum_evts in the original files)?\n",
    "# - By default, spark takes empty string as null. \n",
    "# - In the current version there are rendered as the \"null\" string instead of null value (this will change on another versions). \n",
    "\n",
    "invalidRecords = dbs_df.filter('(dataset IS NOT NULL AND dataset != \"null\") AND (sum_evts IS NULL OR sum_evts = \"null\" OR sum_evts = \"\")')"
   ]
  },
  {
   "cell_type": "code",
   "execution_count": 8,
   "metadata": {},
   "outputs": [
    {
     "data": {
      "text/plain": [
       "[]"
      ]
     },
     "execution_count": 8,
     "metadata": {},
     "output_type": "execute_result"
    }
   ],
   "source": [
    "invalidRecords.filter('sum_evts = \"\"').head(1)"
   ]
  },
  {
   "cell_type": "code",
   "execution_count": 9,
   "metadata": {},
   "outputs": [
    {
     "data": {
      "text/plain": [
       "29487101"
      ]
     },
     "execution_count": 9,
     "metadata": {},
     "output_type": "execute_result"
    }
   ],
   "source": [
    "invalidRecords.count()"
   ]
  },
  {
   "cell_type": "code",
   "execution_count": 10,
   "metadata": {},
   "outputs": [],
   "source": [
    "dbs_df = dbs_df.filter('dataset != \"null\" AND sum_evts !=\"null\" AND sum_evts != \"\"')"
   ]
  },
  {
   "cell_type": "code",
   "execution_count": 11,
   "metadata": {},
   "outputs": [
    {
     "name": "stdout",
     "output_type": "stream",
     "text": [
      "17302551\n"
     ]
    },
    {
     "data": {
      "text/plain": [
       "[Row(dataset=u'/ZeroBias8/Run2016F-v1/RAW', sum_evts=u'0.0', filename=u'hdfs://analytix/cms/dbs_condor/dataset/2018/01/23/part-00043'),\n",
       " Row(dataset=u'/SingleMuon/Run2017E-17Nov2017-v1/MINIAOD', sum_evts=u'0.0', filename=u'hdfs://analytix/cms/dbs_condor/dataset/2018/01/23/part-00043'),\n",
       " Row(dataset=u'/Tau/Run2016B-18Apr2017_ver2-v1/DQMIO', sum_evts=u'0.0', filename=u'hdfs://analytix/cms/dbs_condor/dataset/2018/01/23/part-00043'),\n",
       " Row(dataset=u'/ZeroBias8/Run2016F-v1/RAW', sum_evts=u'0.0', filename=u'hdfs://analytix/cms/dbs_condor/dataset/2018/01/23/part-00043'),\n",
       " Row(dataset=u'/ZeroBias1/Commissioning2017-v1/RAW', sum_evts=u'0.0', filename=u'hdfs://analytix/cms/dbs_condor/dataset/2018/01/23/part-00043')]"
      ]
     },
     "execution_count": 11,
     "metadata": {},
     "output_type": "execute_result"
    }
   ],
   "source": [
    "zero = dbs_df.filter('sum_evts = \"0.0\"')\n",
    "print(zero.count())\n",
    "zero.head(5) #Should this be posible?"
   ]
  },
  {
   "cell_type": "code",
   "execution_count": 12,
   "metadata": {},
   "outputs": [],
   "source": [
    "dbs_df = dbs_df.subtract(zero)"
   ]
  },
  {
   "cell_type": "code",
   "execution_count": 13,
   "metadata": {},
   "outputs": [],
   "source": [
    "dbs_df = dbs_df.withColumn('events',dbs_df.sum_evts.cast(\"double\")*1000)"
   ]
  },
  {
   "cell_type": "code",
   "execution_count": 14,
   "metadata": {},
   "outputs": [],
   "source": [
    "dbs_df = dbs_df.withColumn('days',concat(regexp_extract(dbs_df.filename,'.*\\/([0-9]{4})\\/([0-9]{2})\\/([0-9]{2})',1), \n",
    "                                         regexp_extract(dbs_df.filename,'.*\\/([0-9]{4})\\/([0-9]{2})\\/([0-9]{2})',2), \n",
    "                                         regexp_extract(dbs_df.filename,'.*\\/([0-9]{4})\\/([0-9]{2})\\/([0-9]{2})',3)))"
   ]
  },
  {
   "cell_type": "code",
   "execution_count": 15,
   "metadata": {},
   "outputs": [],
   "source": [
    "dbs_df = dbs_df.filter('days between {} AND {}'.format(start_date, end_date))"
   ]
  },
  {
   "cell_type": "code",
   "execution_count": 16,
   "metadata": {
    "scrolled": true
   },
   "outputs": [
    {
     "name": "stdout",
     "output_type": "stream",
     "text": [
      "+--------------------+--------+--------------------+--------+--------+\n",
      "|             dataset|sum_evts|            filename|  events|    days|\n",
      "+--------------------+--------+--------------------+--------+--------+\n",
      "|/ST_tW_antitop_5f...| 242.678|hdfs://analytix/c...|242678.0|20180805|\n",
      "+--------------------+--------+--------------------+--------+--------+\n",
      "\n"
     ]
    }
   ],
   "source": [
    "dbs_df.limit(1).show()"
   ]
  },
  {
   "cell_type": "markdown",
   "metadata": {},
   "source": [
    "# Use of each dataset per day"
   ]
  },
  {
   "cell_type": "code",
   "execution_count": 17,
   "metadata": {},
   "outputs": [],
   "source": [
    "_df_agg = dbs_df.groupBy('dataset','days').sum('events').alias('sum_events').toPandas()"
   ]
  },
  {
   "cell_type": "code",
   "execution_count": 18,
   "metadata": {},
   "outputs": [],
   "source": [
    "_plain=_df_agg.rename(columns={u'days':'day',\n",
    "                               u'sum(events)':'sum_events'})\n"
   ]
  },
  {
   "cell_type": "code",
   "execution_count": 19,
   "metadata": {},
   "outputs": [
    {
     "data": {
      "text/html": [
       "<div>\n",
       "<style scoped>\n",
       "    .dataframe tbody tr th:only-of-type {\n",
       "        vertical-align: middle;\n",
       "    }\n",
       "\n",
       "    .dataframe tbody tr th {\n",
       "        vertical-align: top;\n",
       "    }\n",
       "\n",
       "    .dataframe thead th {\n",
       "        text-align: right;\n",
       "    }\n",
       "</style>\n",
       "<table border=\"1\" class=\"dataframe\">\n",
       "  <thead>\n",
       "    <tr style=\"text-align: right;\">\n",
       "      <th></th>\n",
       "      <th>dataset</th>\n",
       "      <th>day</th>\n",
       "      <th>sum_events</th>\n",
       "    </tr>\n",
       "  </thead>\n",
       "  <tbody>\n",
       "  </tbody>\n",
       "</table>\n",
       "</div>"
      ],
      "text/plain": [
       "Empty DataFrame\n",
       "Columns: [dataset, day, sum_events]\n",
       "Index: []"
      ]
     },
     "execution_count": 19,
     "metadata": {},
     "output_type": "execute_result"
    }
   ],
   "source": [
    "# _plain.columns\n",
    "_plain[_plain.sum_events==0].head()"
   ]
  },
  {
   "cell_type": "markdown",
   "metadata": {},
   "source": [
    "## Calculate the effective average size of each dataset in the given periods\n",
    " size of each dataset in each of the time periods"
   ]
  },
  {
   "cell_type": "code",
   "execution_count": 20,
   "metadata": {},
   "outputs": [],
   "source": [
    "_sizes = pd.read_csv(phedexInput)"
   ]
  },
  {
   "cell_type": "code",
   "execution_count": 21,
   "metadata": {},
   "outputs": [],
   "source": [
    "if onlyT1_T2:\n",
    "    _sizes = _sizes[np.logical_or(_sizes.site.str.startswith(\"T1_\"),_sizes.site.str.startswith(\"T2_\"))]"
   ]
  },
  {
   "cell_type": "markdown",
   "metadata": {},
   "source": [
    "## The weight of the dataset in the given period is a weigthed average of the size of the replicas in that period\n"
   ]
  },
  {
   "cell_type": "code",
   "execution_count": 22,
   "metadata": {},
   "outputs": [],
   "source": [
    "def weigthed_size(x,begin, end):\n",
    "    \"\"\"\n",
    "    The first approach to calculate the weigth. It replicate the functionality of Carl's script.\n",
    "    @param x row\n",
    "    @param begin first day of the period.\n",
    "    @param end last day of the period. \n",
    "    \"\"\"\n",
    "    if str(x.max_date) < str(begin) or str(x.min_date) > str(end):\n",
    "        return 0\n",
    "    _start = str(x.min_date) if str(begin)<str(x.min_date) else str(begin)\n",
    "    _end = str(x.max_date) if str(end)>=str(x.max_date) else str(end)\n",
    "    delta=(datetime.strptime(_end,'%Y%m%d')-datetime.strptime(_start,'%Y%m%d')).days+1.0\n",
    "    period=(datetime.strptime(end,'%Y%m%d')-datetime.strptime(begin,'%Y%m%d')).days+1.0\n",
    "    return float(delta)/float(period)\n",
    "\n",
    "def weigthed_size_vectorized(x, begin,end):\n",
    "    \"\"\"\n",
    "    A vectorized approach to calcule the weigth of a size in a given period.\n",
    "    @param x dataset\n",
    "    @param begin first day of the period.\n",
    "    @param end last day of the period. \n",
    "    \"\"\"\n",
    "    _start = pd.Series(np.where(x.min_date.astype('str') >= str(begin),\n",
    "                                x.min_date.astype('str'), str(begin)),\n",
    "                       x.index)\n",
    "    _end = pd.Series(np.where(x.max_date.astype('str') <str(end),\n",
    "                              x.max_date.astype('str'), str(end)),\n",
    "                     x.index)\n",
    "    delta = (pd.to_datetime(_end,format='%Y%m%d') -\n",
    "             pd.to_datetime(_start, format='%Y%m%d')).dt.days+1.0\n",
    "    \n",
    "    delta[np.logical_or(x.max_date.astype('str') < str(begin),\n",
    "                        x.min_date.astype('str') > str(end))] = 0\n",
    "    \n",
    "    period = (datetime.strptime(end,'%Y%m%d') - \n",
    "              datetime.strptime(begin,'%Y%m%d')).days + 1.0 \n",
    "\n",
    "    return np.true_divide(delta.astype(np.float32),period)"
   ]
  },
  {
   "cell_type": "code",
   "execution_count": 23,
   "metadata": {
    "scrolled": false
   },
   "outputs": [],
   "source": [
    "#_w=_sizes.apply(lambda x:weigthed_size(x,midterm,end_date), axis=1 )\n",
    "_w = weigthed_size_vectorized(_sizes,midterm,end_date)\n",
    "_sizes['weight_6Month']=_w\n",
    "_sizes['weighted_size_6Month']=_sizes.ave_size*_w\n",
    "\n",
    "#_w=_sizes.apply(lambda x:weigthed_size(x,lastQuarter,end_date), axis=1 )\n",
    "_w = weigthed_size_vectorized(_sizes,lastQuarter,end_date)\n",
    "#print _w\n",
    "_sizes['weight_3Month']=_w\n",
    "_sizes['weighted_size_3Month']=_sizes.ave_size*_w\n",
    "\n",
    "#_w=_sizes.apply(lambda x:weigthed_size(x,start_date,end_date), axis=1 )\n",
    "_w = weigthed_size_vectorized(_sizes,start_date,end_date)\n",
    "_sizes['weight_12Month']=_w\n",
    "_sizes['weighted_size_12Month']=_sizes.ave_size*_w\n",
    "\n"
   ]
  },
  {
   "cell_type": "code",
   "execution_count": 24,
   "metadata": {},
   "outputs": [],
   "source": [
    "_sizes.min_date=_sizes.rdate"
   ]
  },
  {
   "cell_type": "code",
   "execution_count": 25,
   "metadata": {},
   "outputs": [],
   "source": [
    "_df_dsSzDur = _sizes.groupby('dataset').agg({'min_date':'min',\n",
    "                                             'max_date':'max',\n",
    "                                             'weighted_size_3Month':'sum',\n",
    "                                             'weighted_size_6Month':'sum',\n",
    "                                             'weighted_size_12Month':'sum'})\n"
   ]
  },
  {
   "cell_type": "code",
   "execution_count": 26,
   "metadata": {},
   "outputs": [],
   "source": [
    "_events = pd.read_csv(eventsInput)"
   ]
  },
  {
   "cell_type": "code",
   "execution_count": 27,
   "metadata": {},
   "outputs": [
    {
     "data": {
      "text/html": [
       "<div>\n",
       "<style scoped>\n",
       "    .dataframe tbody tr th:only-of-type {\n",
       "        vertical-align: middle;\n",
       "    }\n",
       "\n",
       "    .dataframe tbody tr th {\n",
       "        vertical-align: top;\n",
       "    }\n",
       "\n",
       "    .dataframe thead th {\n",
       "        text-align: right;\n",
       "    }\n",
       "</style>\n",
       "<table border=\"1\" class=\"dataframe\">\n",
       "  <thead>\n",
       "    <tr style=\"text-align: right;\">\n",
       "      <th></th>\n",
       "      <th>dataset</th>\n",
       "      <th>nevents</th>\n",
       "    </tr>\n",
       "  </thead>\n",
       "  <tbody>\n",
       "    <tr>\n",
       "      <th>0</th>\n",
       "      <td>/RandomTriggers/BeamCommissioning08-v1/RAW</td>\n",
       "      <td>10073306</td>\n",
       "    </tr>\n",
       "    <tr>\n",
       "      <th>1</th>\n",
       "      <td>/Cosmics/Commissioning08_CRAFT_ALL_V4_SuperPoi...</td>\n",
       "      <td>938338</td>\n",
       "    </tr>\n",
       "    <tr>\n",
       "      <th>2</th>\n",
       "      <td>/Cosmics/Commissioning08-CruzetAll_FU_L1Basic-...</td>\n",
       "      <td>8863574</td>\n",
       "    </tr>\n",
       "    <tr>\n",
       "      <th>3</th>\n",
       "      <td>/QCD250to500-madgraph/Winter09_IDEAL_V12_FastS...</td>\n",
       "      <td>121492634</td>\n",
       "    </tr>\n",
       "    <tr>\n",
       "      <th>4</th>\n",
       "      <td>/Calo/HAPPYHAPPYWARMFUZZY_T0TEST_WITHBUNNIESDA...</td>\n",
       "      <td>118536698</td>\n",
       "    </tr>\n",
       "  </tbody>\n",
       "</table>\n",
       "</div>"
      ],
      "text/plain": [
       "                                             dataset    nevents\n",
       "0         /RandomTriggers/BeamCommissioning08-v1/RAW   10073306\n",
       "1  /Cosmics/Commissioning08_CRAFT_ALL_V4_SuperPoi...     938338\n",
       "2  /Cosmics/Commissioning08-CruzetAll_FU_L1Basic-...    8863574\n",
       "3  /QCD250to500-madgraph/Winter09_IDEAL_V12_FastS...  121492634\n",
       "4  /Calo/HAPPYHAPPYWARMFUZZY_T0TEST_WITHBUNNIESDA...  118536698"
      ]
     },
     "execution_count": 27,
     "metadata": {},
     "output_type": "execute_result"
    }
   ],
   "source": [
    "_events[['dataset','nevents']].head()"
   ]
  },
  {
   "cell_type": "code",
   "execution_count": 28,
   "metadata": {},
   "outputs": [],
   "source": [
    "df_dsSzDur = pd.merge(_df_dsSzDur, _events[['dataset','nevents']], on='dataset')"
   ]
  },
  {
   "cell_type": "code",
   "execution_count": 29,
   "metadata": {},
   "outputs": [],
   "source": [
    "df_dsSzDur=df_dsSzDur.rename(columns={'weighted_size_12Month': 'size12month', \n",
    "                                      'weighted_size_3Month':'size3month',\n",
    "                                      'weighted_size_6Month': 'size6month',\n",
    "                                      'max_date':'end',\n",
    "                                      'min_date':'begin',\n",
    "                                      u'nevents':'nEvents' })"
   ]
  },
  {
   "cell_type": "code",
   "execution_count": 30,
   "metadata": {},
   "outputs": [
    {
     "data": {
      "text/plain": [
       "Index([u'dataset', u'size12month', u'size3month', u'size6month', u'end',\n",
       "       u'begin', u'nEvents'],\n",
       "      dtype='object')"
      ]
     },
     "execution_count": 30,
     "metadata": {},
     "output_type": "execute_result"
    }
   ],
   "source": [
    "df_dsSzDur.columns"
   ]
  },
  {
   "cell_type": "markdown",
   "metadata": {},
   "source": [
    "## Join the datasets\n",
    "\n",
    "A inner join to keep only the used datasets. "
   ]
  },
  {
   "cell_type": "code",
   "execution_count": 31,
   "metadata": {
    "scrolled": true
   },
   "outputs": [],
   "source": [
    "_merged = pd.merge(df_dsSzDur, _plain, on='dataset', sort=True) \n"
   ]
  },
  {
   "cell_type": "code",
   "execution_count": 32,
   "metadata": {},
   "outputs": [],
   "source": [
    "# Rate of the events used over the number of events in the file\n",
    "_merged['rate'] = _merged.sum_events/_merged.nEvents"
   ]
  },
  {
   "cell_type": "code",
   "execution_count": 33,
   "metadata": {},
   "outputs": [
    {
     "data": {
      "text/html": [
       "<div>\n",
       "<style scoped>\n",
       "    .dataframe tbody tr th:only-of-type {\n",
       "        vertical-align: middle;\n",
       "    }\n",
       "\n",
       "    .dataframe tbody tr th {\n",
       "        vertical-align: top;\n",
       "    }\n",
       "\n",
       "    .dataframe thead th {\n",
       "        text-align: right;\n",
       "    }\n",
       "</style>\n",
       "<table border=\"1\" class=\"dataframe\">\n",
       "  <thead>\n",
       "    <tr style=\"text-align: right;\">\n",
       "      <th></th>\n",
       "      <th>dataset</th>\n",
       "      <th>size12month</th>\n",
       "      <th>size3month</th>\n",
       "      <th>size6month</th>\n",
       "      <th>end</th>\n",
       "      <th>begin</th>\n",
       "      <th>nEvents</th>\n",
       "      <th>day</th>\n",
       "      <th>sum_events</th>\n",
       "      <th>rate</th>\n",
       "    </tr>\n",
       "  </thead>\n",
       "  <tbody>\n",
       "    <tr>\n",
       "      <th>0</th>\n",
       "      <td>/ADDGravToGG_MS-10000_NED-2_KK-1_M-1000To2000_...</td>\n",
       "      <td>1.050660e+10</td>\n",
       "      <td>1.101456e+10</td>\n",
       "      <td>1.101136e+10</td>\n",
       "      <td>20190228</td>\n",
       "      <td>20170812</td>\n",
       "      <td>100000</td>\n",
       "      <td>20181106</td>\n",
       "      <td>100000.0</td>\n",
       "      <td>1.0</td>\n",
       "    </tr>\n",
       "    <tr>\n",
       "      <th>1</th>\n",
       "      <td>/ADDGravToGG_MS-10000_NED-2_KK-1_M-2000To4000_...</td>\n",
       "      <td>1.044827e+10</td>\n",
       "      <td>1.129133e+10</td>\n",
       "      <td>1.035321e+10</td>\n",
       "      <td>20190228</td>\n",
       "      <td>20170901</td>\n",
       "      <td>99998</td>\n",
       "      <td>20181106</td>\n",
       "      <td>99998.0</td>\n",
       "      <td>1.0</td>\n",
       "    </tr>\n",
       "    <tr>\n",
       "      <th>2</th>\n",
       "      <td>/ADDGravToGG_MS-10000_NED-2_KK-1_M-4000To10000...</td>\n",
       "      <td>9.406279e+09</td>\n",
       "      <td>8.253106e+09</td>\n",
       "      <td>8.253106e+09</td>\n",
       "      <td>20190228</td>\n",
       "      <td>20170215</td>\n",
       "      <td>96530</td>\n",
       "      <td>20181106</td>\n",
       "      <td>96530.0</td>\n",
       "      <td>1.0</td>\n",
       "    </tr>\n",
       "    <tr>\n",
       "      <th>3</th>\n",
       "      <td>/ADDGravToGG_MS-10000_NED-2_KK-1_M-500To1000_1...</td>\n",
       "      <td>8.553156e+09</td>\n",
       "      <td>9.211354e+09</td>\n",
       "      <td>9.298736e+09</td>\n",
       "      <td>20190228</td>\n",
       "      <td>20171016</td>\n",
       "      <td>99586</td>\n",
       "      <td>20181106</td>\n",
       "      <td>99586.0</td>\n",
       "      <td>1.0</td>\n",
       "    </tr>\n",
       "    <tr>\n",
       "      <th>4</th>\n",
       "      <td>/ADDGravToGG_MS-10000_NED-2_KK-1_M-500To1000_1...</td>\n",
       "      <td>2.606524e+09</td>\n",
       "      <td>7.153243e+09</td>\n",
       "      <td>6.300539e+09</td>\n",
       "      <td>20190228</td>\n",
       "      <td>20181018</td>\n",
       "      <td>99586</td>\n",
       "      <td>20190124</td>\n",
       "      <td>99586.0</td>\n",
       "      <td>1.0</td>\n",
       "    </tr>\n",
       "  </tbody>\n",
       "</table>\n",
       "</div>"
      ],
      "text/plain": [
       "                                             dataset   size12month  \\\n",
       "0  /ADDGravToGG_MS-10000_NED-2_KK-1_M-1000To2000_...  1.050660e+10   \n",
       "1  /ADDGravToGG_MS-10000_NED-2_KK-1_M-2000To4000_...  1.044827e+10   \n",
       "2  /ADDGravToGG_MS-10000_NED-2_KK-1_M-4000To10000...  9.406279e+09   \n",
       "3  /ADDGravToGG_MS-10000_NED-2_KK-1_M-500To1000_1...  8.553156e+09   \n",
       "4  /ADDGravToGG_MS-10000_NED-2_KK-1_M-500To1000_1...  2.606524e+09   \n",
       "\n",
       "     size3month    size6month       end     begin  nEvents       day  \\\n",
       "0  1.101456e+10  1.101136e+10  20190228  20170812   100000  20181106   \n",
       "1  1.129133e+10  1.035321e+10  20190228  20170901    99998  20181106   \n",
       "2  8.253106e+09  8.253106e+09  20190228  20170215    96530  20181106   \n",
       "3  9.211354e+09  9.298736e+09  20190228  20171016    99586  20181106   \n",
       "4  7.153243e+09  6.300539e+09  20190228  20181018    99586  20190124   \n",
       "\n",
       "   sum_events  rate  \n",
       "0    100000.0   1.0  \n",
       "1     99998.0   1.0  \n",
       "2     96530.0   1.0  \n",
       "3     99586.0   1.0  \n",
       "4     99586.0   1.0  "
      ]
     },
     "execution_count": 33,
     "metadata": {},
     "output_type": "execute_result"
    }
   ],
   "source": [
    "_merged.head()"
   ]
  },
  {
   "cell_type": "markdown",
   "metadata": {},
   "source": [
    "## Create the desired datasets. \n",
    "\n",
    "The datasets sixMnts, threeMnts and twelveMnts contains only data for datasets that where used at least once in the given period. "
   ]
  },
  {
   "cell_type": "code",
   "execution_count": 34,
   "metadata": {},
   "outputs": [],
   "source": [
    "_merged.day = _merged.day.astype('str')\n",
    "full = _merged\n",
    "sixMnts = full[full.day>=midterm][['dataset', 'size6month', 'day', 'rate']]\n",
    "threeMnts = full[(full.day>=lastQuarter)][['dataset', 'size3month', 'day','rate']]\n",
    "twelveMnts = full[['dataset', 'size12month', 'day', 'rate']][np.logical_not(np.isnan(full.rate))]"
   ]
  },
  {
   "cell_type": "code",
   "execution_count": 35,
   "metadata": {},
   "outputs": [
    {
     "data": {
      "text/plain": [
       "0    1.101456e+10\n",
       "1    1.129133e+10\n",
       "2    8.253106e+09\n",
       "3    9.211354e+09\n",
       "4    7.153243e+09\n",
       "Name: size3month, dtype: float32"
      ]
     },
     "execution_count": 35,
     "metadata": {},
     "output_type": "execute_result"
    }
   ],
   "source": [
    "_merged.size3month.head()"
   ]
  },
  {
   "cell_type": "markdown",
   "metadata": {},
   "source": [
    "## Sum the event usage rate\n"
   ]
  },
  {
   "cell_type": "code",
   "execution_count": 36,
   "metadata": {},
   "outputs": [],
   "source": [
    "sum_3mth = threeMnts.groupby(['dataset','size3month']).agg({'rate':'sum'})\n",
    "sum_6mth = sixMnts.groupby(['dataset','size6month']).agg({'rate':'sum'})\n",
    "sum_12mth = twelveMnts.groupby(['dataset','size12month']).agg({'rate':'sum'})\n",
    "types = {'3 months':sum_3mth, '6 months':sum_6mth, 'full year':sum_12mth}\n",
    "cols = {'3 months':'size3month', '6 months':'size6month', 'full year':'size12month'}\n",
    "bdates = {'3 months':lastQuarter, '6 months':midterm, 'full year':start_date}"
   ]
  },
  {
   "cell_type": "code",
   "execution_count": 37,
   "metadata": {},
   "outputs": [],
   "source": [
    "gp = None"
   ]
  },
  {
   "cell_type": "code",
   "execution_count": 38,
   "metadata": {},
   "outputs": [],
   "source": [
    "\n",
    "for _type in types.keys():\n",
    "    _sum = types[_type].reset_index()\n",
    "    \n",
    "    # positive values <1 belong to the first bin  (one accesss). \n",
    "    _sum.rate = np.where(np.logical_and(_sum.rate<1, _sum.rate>0),1,_sum.rate) \n",
    "    # if there are 0 or  negative values they should be in another bin (-currently there are none-). \n",
    "    _sum.rate = np.where(_sum.rate<=0, -1, _sum.rate) \n",
    "    _sum['rtceil'] = np.round(_sum.rate).astype(np.int)\n",
    "    \n",
    "    _sum.rtceil = np.where(_sum.rtceil>14, 15, _sum.rtceil)\n",
    "    _sum.rtceil = _sum.rtceil.astype(str)\n",
    "    _sum.rtceil = _sum.rtceil.map(lambda x:x.rjust(2,'0'))\n",
    "\n",
    "    # Group higher values\n",
    "    _sum.rtceil.values[_sum.rtceil=='15'] = '15+'\n",
    "    \n",
    "    #\n",
    "    _sum.rtceil.values[_sum.rtceil=='-1'] = '-Evts'\n",
    "    \n",
    "    # agregate per bin\n",
    "    _gp =_sum.groupby('rtceil').agg({cols[_type]:['sum','count']})\n",
    "    _gp.columns = _gp.columns.droplevel(0)\n",
    "    _gp = _gp.reset_index()\n",
    "    _gp.columns = ['bin','f_size','count_ds']\n",
    "    \n",
    "    # Unused data:\n",
    "    # Unused data is data that exists (had a size>0) in the given period but is not in the sum dataframe \n",
    "    # (it was not used in the given period).\n",
    "    _unused = df_dsSzDur[np.logical_and(np.logical_not(df_dsSzDur.dataset.isin(_sum.dataset)),\n",
    "                                        df_dsSzDur[cols[_type]]>0)]\n",
    "    # old\n",
    "    # Unused old data is unused data that existed before the period begins\n",
    "    _unused_old =  _unused.loc[_unused.begin.astype(str)<bdates[_type]]\n",
    "    # new\n",
    "    # Unused new data is unused data created on this period\n",
    "    _unused_new =  _unused.loc[_unused.begin.astype(str)>=bdates[_type]]\n",
    "    \n",
    "    _gp = _gp.append(\n",
    "        {'bin': '0-old',\n",
    "        'f_size': np.sum(_unused_old[cols[_type]]),\n",
    "        'count_ds': np.unique(_unused_old['dataset']).size},\n",
    "        ignore_index=True)\n",
    "    _gp = _gp.append(\n",
    "        {'bin': '00-new',\n",
    "        'f_size': np.sum(_unused_new[cols[_type]]),\n",
    "        'count_ds': np.unique(_unused_new['dataset']).size},\n",
    "        ignore_index=True)\n",
    "    \n",
    "    # We want values in PB\n",
    "    _gp.f_size = _gp.f_size*(1024**-5)\n",
    "    # And we want the total in the legend\n",
    "    _gp[\"type\"] = \"{} {:.2f} PB\".format(_type, _gp.f_size.sum())\n",
    "    \n",
    "    if gp is None:\n",
    "        gp = _gp\n",
    "    else:\n",
    "        gp = pd.concat([gp,_gp],ignore_index=True)"
   ]
  },
  {
   "cell_type": "code",
   "execution_count": 39,
   "metadata": {},
   "outputs": [],
   "source": [
    "values = gp.type.unique()\n",
    "values.sort()"
   ]
  },
  {
   "cell_type": "code",
   "execution_count": 40,
   "metadata": {},
   "outputs": [
    {
     "data": {
      "text/html": [
       "<div>\n",
       "<style scoped>\n",
       "    .dataframe tbody tr th:only-of-type {\n",
       "        vertical-align: middle;\n",
       "    }\n",
       "\n",
       "    .dataframe tbody tr th {\n",
       "        vertical-align: top;\n",
       "    }\n",
       "\n",
       "    .dataframe thead th {\n",
       "        text-align: right;\n",
       "    }\n",
       "</style>\n",
       "<table border=\"1\" class=\"dataframe\">\n",
       "  <thead>\n",
       "    <tr style=\"text-align: right;\">\n",
       "      <th></th>\n",
       "      <th>bin</th>\n",
       "      <th>f_size</th>\n",
       "      <th>count_ds</th>\n",
       "      <th>type</th>\n",
       "    </tr>\n",
       "  </thead>\n",
       "  <tbody>\n",
       "    <tr>\n",
       "      <th>0</th>\n",
       "      <td>01</td>\n",
       "      <td>30.440916</td>\n",
       "      <td>11007</td>\n",
       "      <td>6 months 97.49 PB</td>\n",
       "    </tr>\n",
       "    <tr>\n",
       "      <th>1</th>\n",
       "      <td>02</td>\n",
       "      <td>5.145459</td>\n",
       "      <td>2010</td>\n",
       "      <td>6 months 97.49 PB</td>\n",
       "    </tr>\n",
       "    <tr>\n",
       "      <th>2</th>\n",
       "      <td>03</td>\n",
       "      <td>3.045310</td>\n",
       "      <td>1126</td>\n",
       "      <td>6 months 97.49 PB</td>\n",
       "    </tr>\n",
       "    <tr>\n",
       "      <th>3</th>\n",
       "      <td>04</td>\n",
       "      <td>1.171057</td>\n",
       "      <td>758</td>\n",
       "      <td>6 months 97.49 PB</td>\n",
       "    </tr>\n",
       "    <tr>\n",
       "      <th>4</th>\n",
       "      <td>05</td>\n",
       "      <td>1.487681</td>\n",
       "      <td>548</td>\n",
       "      <td>6 months 97.49 PB</td>\n",
       "    </tr>\n",
       "    <tr>\n",
       "      <th>5</th>\n",
       "      <td>06</td>\n",
       "      <td>0.867081</td>\n",
       "      <td>390</td>\n",
       "      <td>6 months 97.49 PB</td>\n",
       "    </tr>\n",
       "    <tr>\n",
       "      <th>6</th>\n",
       "      <td>07</td>\n",
       "      <td>1.103685</td>\n",
       "      <td>271</td>\n",
       "      <td>6 months 97.49 PB</td>\n",
       "    </tr>\n",
       "    <tr>\n",
       "      <th>7</th>\n",
       "      <td>08</td>\n",
       "      <td>0.574791</td>\n",
       "      <td>184</td>\n",
       "      <td>6 months 97.49 PB</td>\n",
       "    </tr>\n",
       "    <tr>\n",
       "      <th>8</th>\n",
       "      <td>09</td>\n",
       "      <td>0.470140</td>\n",
       "      <td>152</td>\n",
       "      <td>6 months 97.49 PB</td>\n",
       "    </tr>\n",
       "    <tr>\n",
       "      <th>9</th>\n",
       "      <td>10</td>\n",
       "      <td>0.749886</td>\n",
       "      <td>133</td>\n",
       "      <td>6 months 97.49 PB</td>\n",
       "    </tr>\n",
       "    <tr>\n",
       "      <th>10</th>\n",
       "      <td>11</td>\n",
       "      <td>1.091427</td>\n",
       "      <td>115</td>\n",
       "      <td>6 months 97.49 PB</td>\n",
       "    </tr>\n",
       "    <tr>\n",
       "      <th>11</th>\n",
       "      <td>12</td>\n",
       "      <td>0.544704</td>\n",
       "      <td>104</td>\n",
       "      <td>6 months 97.49 PB</td>\n",
       "    </tr>\n",
       "    <tr>\n",
       "      <th>12</th>\n",
       "      <td>13</td>\n",
       "      <td>0.501412</td>\n",
       "      <td>79</td>\n",
       "      <td>6 months 97.49 PB</td>\n",
       "    </tr>\n",
       "    <tr>\n",
       "      <th>13</th>\n",
       "      <td>14</td>\n",
       "      <td>0.382431</td>\n",
       "      <td>57</td>\n",
       "      <td>6 months 97.49 PB</td>\n",
       "    </tr>\n",
       "    <tr>\n",
       "      <th>14</th>\n",
       "      <td>15+</td>\n",
       "      <td>6.470118</td>\n",
       "      <td>876</td>\n",
       "      <td>6 months 97.49 PB</td>\n",
       "    </tr>\n",
       "    <tr>\n",
       "      <th>15</th>\n",
       "      <td>0-old</td>\n",
       "      <td>33.200218</td>\n",
       "      <td>120483</td>\n",
       "      <td>6 months 97.49 PB</td>\n",
       "    </tr>\n",
       "    <tr>\n",
       "      <th>16</th>\n",
       "      <td>00-new</td>\n",
       "      <td>10.244618</td>\n",
       "      <td>57357</td>\n",
       "      <td>6 months 97.49 PB</td>\n",
       "    </tr>\n",
       "    <tr>\n",
       "      <th>17</th>\n",
       "      <td>01</td>\n",
       "      <td>28.718517</td>\n",
       "      <td>9522</td>\n",
       "      <td>3 months 100.14 PB</td>\n",
       "    </tr>\n",
       "  </tbody>\n",
       "</table>\n",
       "</div>"
      ],
      "text/plain": [
       "       bin     f_size  count_ds                type\n",
       "0       01  30.440916     11007   6 months 97.49 PB\n",
       "1       02   5.145459      2010   6 months 97.49 PB\n",
       "2       03   3.045310      1126   6 months 97.49 PB\n",
       "3       04   1.171057       758   6 months 97.49 PB\n",
       "4       05   1.487681       548   6 months 97.49 PB\n",
       "5       06   0.867081       390   6 months 97.49 PB\n",
       "6       07   1.103685       271   6 months 97.49 PB\n",
       "7       08   0.574791       184   6 months 97.49 PB\n",
       "8       09   0.470140       152   6 months 97.49 PB\n",
       "9       10   0.749886       133   6 months 97.49 PB\n",
       "10      11   1.091427       115   6 months 97.49 PB\n",
       "11      12   0.544704       104   6 months 97.49 PB\n",
       "12      13   0.501412        79   6 months 97.49 PB\n",
       "13      14   0.382431        57   6 months 97.49 PB\n",
       "14     15+   6.470118       876   6 months 97.49 PB\n",
       "15   0-old  33.200218    120483   6 months 97.49 PB\n",
       "16  00-new  10.244618     57357   6 months 97.49 PB\n",
       "17      01  28.718517      9522  3 months 100.14 PB"
      ]
     },
     "execution_count": 40,
     "metadata": {},
     "output_type": "execute_result"
    }
   ],
   "source": [
    "gp.head(18)"
   ]
  },
  {
   "cell_type": "code",
   "execution_count": 41,
   "metadata": {},
   "outputs": [],
   "source": [
    "x_order = gp.bin.unique()\n",
    "x_order.sort()"
   ]
  },
  {
   "cell_type": "code",
   "execution_count": 45,
   "metadata": {},
   "outputs": [
    {
     "data": {
      "text/plain": [
       "<matplotlib.legend.Legend at 0x7fa2634b5b10>"
      ]
     },
     "execution_count": 45,
     "metadata": {},
     "output_type": "execute_result"
    },
    {
     "data": {
      "image/png": "[encoded data removed]",
      "text/plain": [
       "<Figure size 842.4x595.44 with 1 Axes>"
      ]
     },
     "metadata": {},
     "output_type": "display_data"
    }
   ],
   "source": [
    "a4_dims = (11.7, 8.27)\n",
    "fig, ax = pyplot.subplots(figsize=a4_dims)\n",
    "sns.set_palette(sns.color_palette(\"Blues\"))\n",
    "\n",
    "plot=sns.barplot(x='bin',\n",
    "                 y='f_size',\n",
    "                 order=x_order,\n",
    "                 hue='type',\n",
    "                 hue_order=values,\n",
    "                 data=gp,\n",
    "                 ax=ax)\n",
    "\n",
    "pyplot.xlabel(\"Number of accesses\")\n",
    "pyplot.ylabel(\"Aggregated data size [PB]\")\n",
    "pyplot.suptitle(\"Scrutiny plot (linear)\")\n",
    "pyplot.title(\"\"\"\n",
    "Number of accesses vs total size in the period ({},{})\n",
    "\"\"\".format(start_date, end_date))\n",
    "plot.legend(title=\"Dataset Accesses over Period\")"
   ]
  },
  {
   "cell_type": "code",
   "execution_count": 43,
   "metadata": {},
   "outputs": [],
   "source": [
    "sc.stop()"
   ]
  },
  {
   "cell_type": "code",
   "execution_count": 46,
   "metadata": {},
   "outputs": [],
   "source": [
    "_directory = 'output'\n",
    "_format = 'pdf'\n",
    "if not os.path.exists(_directory):\n",
    "    os.makedirs(_directory)\n",
    "fig.savefig(os.path.join(_directory,'scrutiny{}-{}.{}'.format(start_date,end_date,_format)),format=_format)"
   ]
  },
  {
   "cell_type": "code",
   "execution_count": null,
   "metadata": {},
   "outputs": [],
   "source": []
  }
 ],
 "metadata": {
  "kernelspec": {
   "display_name": "Python 2",
   "language": "python",
   "name": "python2"
  },
  "language_info": {
   "codemirror_mode": {
    "name": "ipython",
    "version": 2
   },
   "file_extension": ".py",
   "mimetype": "text/x-python",
   "name": "python",
   "nbconvert_exporter": "python",
   "pygments_lexer": "ipython2",
   "version": "2.7.15"
  },
  "sparkconnect": {
   "bundled_options": [],
   "list_of_options": [
    {
     "name": "spark.executor.instances",
     "value": "64"
    },
    {
     "name": "spark.driver.memory",
     "value": "4g"
    },
    {
     "name": "spark.executor.memory",
     "value": "6g"
    }
   ]
  }
 },
 "nbformat": 4,
 "nbformat_minor": 2
}
