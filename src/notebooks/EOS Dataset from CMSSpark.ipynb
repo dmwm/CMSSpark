{
 "cells": [
  {
   "cell_type": "code",
   "execution_count": 9,
   "metadata": {},
   "outputs": [],
   "source": [
    "test = False\n",
    "if test:\n",
    "    dates = '2019/[0-1][0-9]/01'\n",
    "    parquet_file = '/cms/users/carizapo/test.parquet'\n",
    "else:\n",
    "    dates = '2019/[0-1][0-9]/[0-3][0-9]'\n",
    "    parquet_file = '/cms/users/carizapo/full.parquet'"
   ]
  },
  {
   "cell_type": "code",
   "execution_count": 10,
   "metadata": {
    "scrolled": true
   },
   "outputs": [
    {
     "data": {
      "text/html": [
       "\n",
       "        <div>\n",
       "            <p><b>SparkContext</b></p>\n",
       "\n",
       "            <p><a href=\"http://swan-proto4.cern.ch:42386\">Spark UI</a></p>\n",
       "\n",
       "            <dl>\n",
       "              <dt>Version</dt>\n",
       "                <dd><code>v2.3.1</code></dd>\n",
       "              <dt>Master</dt>\n",
       "                <dd><code>yarn</code></dd>\n",
       "              <dt>AppName</dt>\n",
       "                <dd><code>pyspark_shell_swan</code></dd>\n",
       "            </dl>\n",
       "        </div>\n",
       "        "
      ],
      "text/plain": [
       "<SparkContext master=yarn appName=pyspark_shell_swan>"
      ]
     },
     "execution_count": 10,
     "metadata": {},
     "output_type": "execute_result"
    }
   ],
   "source": [
    "sc"
   ]
  },
  {
   "cell_type": "code",
   "execution_count": 11,
   "metadata": {},
   "outputs": [
    {
     "data": {
      "text/html": [
       "\n",
       "            <div>\n",
       "                <p><b>SparkSession - in-memory</b></p>\n",
       "                \n",
       "        <div>\n",
       "            <p><b>SparkContext</b></p>\n",
       "\n",
       "            <p><a href=\"http://swan-proto4.cern.ch:42386\">Spark UI</a></p>\n",
       "\n",
       "            <dl>\n",
       "              <dt>Version</dt>\n",
       "                <dd><code>v2.3.1</code></dd>\n",
       "              <dt>Master</dt>\n",
       "                <dd><code>yarn</code></dd>\n",
       "              <dt>AppName</dt>\n",
       "                <dd><code>pyspark_shell_swan</code></dd>\n",
       "            </dl>\n",
       "        </div>\n",
       "        \n",
       "            </div>\n",
       "        "
      ],
      "text/plain": [
       "<pyspark.sql.session.SparkSession at 0x7f82718ce690>"
      ]
     },
     "execution_count": 11,
     "metadata": {},
     "output_type": "execute_result"
    }
   ],
   "source": [
    "spark"
   ]
  },
  {
   "cell_type": "code",
   "execution_count": 12,
   "metadata": {
    "scrolled": false
   },
   "outputs": [
    {
     "name": "stdout",
     "output_type": "stream",
     "text": [
      "dataset_summary.csv  EOS Dataset from CMSSpark.ipynb  wdir\n",
      "env.sh\t\t     spark-warehouse\n",
      "--2019-03-12 18:30:37--  https://my.pcloud.com/publink/show?code=XZwzn97ZIoG4isDNO3b6SrTEUfQ1Y4E6bp9k\n",
      "Resolving my.pcloud.com (my.pcloud.com)... 74.120.8.14, 74.120.8.226, 74.120.9.89, ...\n",
      "Connecting to my.pcloud.com (my.pcloud.com)|74.120.8.14|:443... connected.\n",
      "HTTP request sent, awaiting response... 200 OK\n",
      "Length: 43222 (42K) [text/html]\n",
      "Saving to: ‘./avro-mapred.jar’\n",
      "\n",
      "100%[======================================>] 43,222      --.-K/s   in 0.1s    \n",
      "\n",
      "2019-03-12 18:30:38 (310 KB/s) - ‘./avro-mapred.jar’ saved [43222/43222]\n",
      "\n",
      "--2019-03-12 18:30:38--  https://github.com/cronosnull/CMSSpark/archive/Eos-dataset.zip\n",
      "Resolving github.com (github.com)... 140.82.118.4, 140.82.118.3\n",
      "Connecting to github.com (github.com)|140.82.118.4|:443... connected.\n",
      "HTTP request sent, awaiting response... 302 Found\n",
      "Location: https://codeload.github.com/cronosnull/CMSSpark/zip/Eos-dataset [following]\n",
      "--2019-03-12 18:30:38--  https://codeload.github.com/cronosnull/CMSSpark/zip/Eos-dataset\n",
      "Resolving codeload.github.com (codeload.github.com)... 192.30.253.120, 192.30.253.121\n",
      "Connecting to codeload.github.com (codeload.github.com)|192.30.253.120|:443... connected.\n",
      "HTTP request sent, awaiting response... 200 OK\n",
      "Length: unspecified [application/zip]\n",
      "Saving to: ‘./master.zip’\n",
      "\n",
      "    [    <=>                                ] 2,506,804   3.56MB/s   in 0.7s   \n",
      "\n",
      "2019-03-12 18:30:39 (3.56 MB/s) - ‘./master.zip’ saved [2506804]\n",
      "\n",
      "Archive:  ./master.zip\n",
      "2d7a14b44f6811de934629029041dc529e6ef511\n",
      "   creating: CMSSpark-Eos-dataset/\n",
      "  inflating: CMSSpark-Eos-dataset/.gitignore  \n",
      "  inflating: CMSSpark-Eos-dataset/LICENSE  \n",
      "  inflating: CMSSpark-Eos-dataset/README.md  \n",
      "  inflating: CMSSpark-Eos-dataset/README_Leftovers.md  \n",
      "   creating: CMSSpark-Eos-dataset/bin/\n",
      "  inflating: CMSSpark-Eos-dataset/bin/cron4aggregation  \n",
      "  inflating: CMSSpark-Eos-dataset/bin/cron4dbs_condor  \n",
      "  inflating: CMSSpark-Eos-dataset/bin/cron4dbs_condor_df  \n",
      "  inflating: CMSSpark-Eos-dataset/bin/cron4dbs_events  \n",
      "  inflating: CMSSpark-Eos-dataset/bin/cron4phedex  \n",
      "  inflating: CMSSpark-Eos-dataset/bin/cron4phedex_df  \n",
      "  inflating: CMSSpark-Eos-dataset/bin/get_dbs_condor.sh  \n",
      "  inflating: CMSSpark-Eos-dataset/bin/get_dbs_events.sh  \n",
      "  inflating: CMSSpark-Eos-dataset/bin/run_aggregation  \n",
      "  inflating: CMSSpark-Eos-dataset/bin/run_dbs_condor.sh  \n",
      "  inflating: CMSSpark-Eos-dataset/bin/run_dbs_events.sh  \n",
      "  inflating: CMSSpark-Eos-dataset/bin/run_phedex.sh  \n",
      "  inflating: CMSSpark-Eos-dataset/bin/run_spark  \n",
      "   creating: CMSSpark-Eos-dataset/doc/\n",
      "  inflating: CMSSpark-Eos-dataset/doc/CMSSpark.pdf  \n",
      "  inflating: CMSSpark-Eos-dataset/doc/CMSSpark.png  \n",
      "   creating: CMSSpark-Eos-dataset/etc/\n",
      "  inflating: CMSSpark-Eos-dataset/etc/conf.json  \n",
      "  inflating: CMSSpark-Eos-dataset/etc/example.csv  \n",
      "  inflating: CMSSpark-Eos-dataset/etc/log4j.properties  \n",
      "  inflating: CMSSpark-Eos-dataset/setup_lxplus.sh  \n",
      "   creating: CMSSpark-Eos-dataset/src/\n",
      "   creating: CMSSpark-Eos-dataset/src/Go/\n",
      "  inflating: CMSSpark-Eos-dataset/src/Go/mergePhedex.go  \n",
      "   creating: CMSSpark-Eos-dataset/src/bash/\n",
      "  inflating: CMSSpark-Eos-dataset/src/bash/dbs_phedex_stats.sh  \n",
      "  inflating: CMSSpark-Eos-dataset/src/bash/download_and_concat.sh  \n",
      "   creating: CMSSpark-Eos-dataset/src/bash/report_campaigns/\n",
      "  inflating: CMSSpark-Eos-dataset/src/bash/report_campaigns/aggregate  \n",
      "  inflating: CMSSpark-Eos-dataset/src/bash/report_campaigns/aggregate_campaign_tier  \n",
      "  inflating: CMSSpark-Eos-dataset/src/bash/report_campaigns/aggregate_campaigns  \n",
      "   creating: CMSSpark-Eos-dataset/src/bash/report_leftovers/\n",
      "  inflating: CMSSpark-Eos-dataset/src/bash/report_leftovers/aggregate_leftovers  \n",
      "   creating: CMSSpark-Eos-dataset/src/bash/report_tiers/\n",
      "  inflating: CMSSpark-Eos-dataset/src/bash/report_tiers/aggregate  \n",
      "  inflating: CMSSpark-Eos-dataset/src/bash/report_tiers/aggregate_dbs  \n",
      "  inflating: CMSSpark-Eos-dataset/src/bash/report_tiers/aggregate_phedex  \n",
      "  inflating: CMSSpark-Eos-dataset/src/bash/reports_init  \n",
      "   creating: CMSSpark-Eos-dataset/src/notebooks/\n",
      "  inflating: CMSSpark-Eos-dataset/src/notebooks/CMSSparkExample.ipynb  \n",
      "   creating: CMSSpark-Eos-dataset/src/python/\n",
      "   creating: CMSSpark-Eos-dataset/src/python/CMSSpark/\n",
      "  inflating: CMSSpark-Eos-dataset/src/python/CMSSpark/__init__.py  \n",
      "  inflating: CMSSpark-Eos-dataset/src/python/CMSSpark/aso_stats.py  \n",
      "  inflating: CMSSpark-Eos-dataset/src/python/CMSSpark/cern_monit.py  \n",
      "  inflating: CMSSpark-Eos-dataset/src/python/CMSSpark/conf.py  \n",
      "  inflating: CMSSpark-Eos-dataset/src/python/CMSSpark/data_aggregation.py  \n",
      "  inflating: CMSSpark-Eos-dataset/src/python/CMSSpark/data_aggregation_plots.py  \n",
      "  inflating: CMSSpark-Eos-dataset/src/python/CMSSpark/data_collection.py  \n",
      "  inflating: CMSSpark-Eos-dataset/src/python/CMSSpark/dates.py  \n",
      "  inflating: CMSSpark-Eos-dataset/src/python/CMSSpark/dbs_aaa.py  \n",
      "  inflating: CMSSpark-Eos-dataset/src/python/CMSSpark/dbs_adler.py  \n",
      "  inflating: CMSSpark-Eos-dataset/src/python/CMSSpark/dbs_block_lumis.py  \n",
      "  inflating: CMSSpark-Eos-dataset/src/python/CMSSpark/dbs_cmssw.py  \n",
      "  inflating: CMSSpark-Eos-dataset/src/python/CMSSpark/dbs_condor.py  \n",
      "  inflating: CMSSpark-Eos-dataset/src/python/CMSSpark/dbs_eos.py  \n",
      "  inflating: CMSSpark-Eos-dataset/src/python/CMSSpark/dbs_events.py  \n",
      "  inflating: CMSSpark-Eos-dataset/src/python/CMSSpark/dbs_jm.py  \n",
      "  inflating: CMSSpark-Eos-dataset/src/python/CMSSpark/dbs_lfn.py  \n",
      "  inflating: CMSSpark-Eos-dataset/src/python/CMSSpark/dbs_phedex.py  \n",
      "  inflating: CMSSpark-Eos-dataset/src/python/CMSSpark/fts_aso.py  \n",
      "  inflating: CMSSpark-Eos-dataset/src/python/CMSSpark/getCSV.py  \n",
      "  inflating: CMSSpark-Eos-dataset/src/python/CMSSpark/jm_stats.py  \n",
      "  inflating: CMSSpark-Eos-dataset/src/python/CMSSpark/mergePhedex.py  \n",
      "  inflating: CMSSpark-Eos-dataset/src/python/CMSSpark/phedex.py  \n",
      "  inflating: CMSSpark-Eos-dataset/src/python/CMSSpark/phedex_agg.py  \n",
      "   creating: CMSSpark-Eos-dataset/src/python/CMSSpark/reports/\n",
      "  inflating: CMSSpark-Eos-dataset/src/python/CMSSpark/reports/aggregate_campaign_tier.py  \n",
      "  inflating: CMSSpark-Eos-dataset/src/python/CMSSpark/reports/aggregate_campaigns.py  \n",
      "  inflating: CMSSpark-Eos-dataset/src/python/CMSSpark/reports/aggregate_dbs.py  \n",
      "  inflating: CMSSpark-Eos-dataset/src/python/CMSSpark/reports/aggregate_leftovers.py  \n",
      "  inflating: CMSSpark-Eos-dataset/src/python/CMSSpark/reports/aggregate_phedex.py  \n",
      "  inflating: CMSSpark-Eos-dataset/src/python/CMSSpark/reports/report_builder.py  \n",
      "  inflating: CMSSpark-Eos-dataset/src/python/CMSSpark/reports/visualize_campaigns.py  \n",
      "  inflating: CMSSpark-Eos-dataset/src/python/CMSSpark/reports/visualize_leftovers.py  \n",
      "  inflating: CMSSpark-Eos-dataset/src/python/CMSSpark/reports/visualize_tiers.py  \n",
      "  inflating: CMSSpark-Eos-dataset/src/python/CMSSpark/schemas.py  \n",
      "  inflating: CMSSpark-Eos-dataset/src/python/CMSSpark/spark_utils.py  \n",
      "  inflating: CMSSpark-Eos-dataset/src/python/CMSSpark/stats.py  \n",
      "  inflating: CMSSpark-Eos-dataset/src/python/CMSSpark/utils.py  \n",
      "  inflating: CMSSpark-Eos-dataset/src/python/CMSSpark/wmarchive.py  \n",
      "   creating: CMSSpark-Eos-dataset/static/\n",
      "  inflating: CMSSpark-Eos-dataset/static/LICENSE  \n",
      "  inflating: CMSSpark-Eos-dataset/static/README.md  \n",
      "     failed setting times/attribs for 15 dir entriesdataset_summary.csv  EOS Dataset from CMSSpark.ipynb  wdir\n",
      "env.sh\t\t     spark-warehouse\n",
      "avro-mapred.jar  CMSSpark  master.zip\n"
     ]
    }
   ],
   "source": [
    "# execute this cell which downloads required libraries and put them in place\n",
    "# Note: I modified it from the CMSSparkExample to remove dependencies that\n",
    "# not longed requiered. \n",
    "import os\n",
    "with open('env.sh', 'w') as ostream:\n",
    "    ostream.write(\"\"\"#!/bin/bash\n",
    "wdir=$PWD/wdir\n",
    "if [ -d $wdir ]; then\n",
    "    rm -rf $wdir\n",
    "fi\n",
    "mkdir -p $wdir\n",
    "cd $wdir\n",
    "branch='Eos-dataset'\n",
    "wget https://my.pcloud.com/publink/show?code=XZwzn97ZIoG4isDNO3b6SrTEUfQ1Y4E6bp9k -O ./avro-mapred.jar\n",
    "wget \"https://github.com/cronosnull/CMSSpark/archive/$branch.zip\" -O ./master.zip\n",
    "unzip ./master.zip 2> /dev/null\n",
    "mv \"CMSSpark-$branch\" CMSSpark\"\"\")\n",
    "!ls\n",
    "!source ./env.sh\n",
    "!ls\n",
    "!cd wdir; ls\n",
    "\n"
   ]
  },
  {
   "cell_type": "code",
   "execution_count": 13,
   "metadata": {},
   "outputs": [
    {
     "name": "stdout",
     "output_type": "stream",
     "text": [
      "/eos/home-c/carizapo/SWAN_projects/EOS/wdir/CMSSpark/src/python\n"
     ]
    }
   ],
   "source": [
    "import os,sys\n",
    "print(os.path.join(os.path.abspath('.'), 'wdir/CMSSpark/src/python'))\n",
    "sys.path.append(os.path.join(os.path.abspath(\".\"), 'wdir/CMSSpark/src/python'))"
   ]
  },
  {
   "cell_type": "code",
   "execution_count": 14,
   "metadata": {},
   "outputs": [],
   "source": [
    "from CMSSpark.spark_utils import eos_tables, dbs_tables"
   ]
  },
  {
   "cell_type": "code",
   "execution_count": 15,
   "metadata": {},
   "outputs": [],
   "source": [
    "##### Staging area ################\n",
    "# THIS CELL IS ONLY USED TO MODIFY EOS TABLES, THAT SHOULD BE DEFINED IN SPARK UTILS \n",
    "def files(url,verbose):\n",
    "    URI = sc._gateway.jvm.java.net.URI\n",
    "    Path = sc._gateway.jvm.org.apache.hadoop.fs.Path\n",
    "    FileSystem = sc._gateway.jvm.org.apache.hadoop.fs.FileSystem\n",
    "    fs = FileSystem.get(URI(\"hdfs:///\"), sc._jsc.hadoopConfiguration())\n",
    "    l = fs.globStatus(Path(url))\n",
    "    return l\n",
    "\n",
    "def eos_tables(sqlContext,\n",
    "        hdir='hdfs:///project/monitoring/archive/eos/logs/reports/cms',\n",
    "        date=None, verbose=False):\n",
    "    \"\"\"\n",
    "    Parse EOS HDFS records. This data set comes from EOS servers at CERN. Data\n",
    "    is send directly by the EOS team, reading the EOS logs and sending them\n",
    "    into the MONIT infrastructure.\n",
    "    \n",
    "    Use https://twiki.cern.ch/twiki/bin/view/ITAnalyticsWorkingGroup/EosFileAccessLogs as data dictionary. \n",
    "\n",
    "    Example of EOS JSON record on HDFS\n",
    "    {\"data\":\"\\\"log=9e7436fe-1d8e-11e7-ba07-a0369f1fbf0c&path=/store/mc/PhaseISpring17GS/MinBias_TuneCUETP8M1_13TeV-pythia8/GEN-SIM/90X_upgrade2017_realistic_v20-v1/50000/72C78841-2110-E711-867F-F832E4CC4D39.root&ruid=8959&rgid=1399&td=nobody.693038:472@fu-c2e05-24-03-daq2fus1v0--cms&host=p05798818q44165.cern.ch&lid=1048850&fid=553521212&fsid=18722&ots=1491788403&otms=918&cts=1491789688&ctms=225&rb=19186114&rb_min=104&rb_max=524288&rb_sigma=239596.05&wb=0&wb_min=0&wb_max=0&wb_sigma=0.00&sfwdb=7576183815&sbwdb=6313410471&sxlfwdb=7575971197&sxlbwdb=6313300667&nrc=72&nwc=0&nfwds=24&nbwds=10&nxlfwds=12&nxlbwds=4&rt=9130.44&wt=0.00&osize=3850577700&csize=3850577700&sec.prot=gsi&sec.name=cmsprd&sec.host=cms-ucsrv-c2f46-32-07.cern.ch&sec.vorg=&sec.grps=&sec.role=&sec.info=/DC=ch/DC=cern/OU=Organic Units/OU=Users/CN=amaltaro/CN=718748/CN=Alan Malta Rodrigues&sec.app=\\\"\",\"metadata\":{\"host\":\"eoscms-srv-m1.cern.ch\",\"kafka_timestamp\":1491789692305,\"partition\":\"14\",\"path\":\"cms\",\"producer\":\"eos\",\"timestamp\":1491789689562,\"topic\":\"eos_logs\",\"type\":\"reports\",\"type_prefix\":\"logs\"}}\n",
    "    # in 2019 we have the following structure\n",
    "    {\"data\":{\"eos.csize\":\"49834\",\"eos.ctms\":\"177\",\"eos.cts\":\"1548009771\",\"eos.fid\":\"1282182923\",\"eos.fsid\":\"8953\",\"eos.fstpath\":\"/data08/0001f4da/4c6c8f0b\",\"eos.host\":\"lxfsrf65c02.cern.ch\",\"eos.lid\":\"1048850\",\"eos.log\":\"30a723b0-1ce3-11e9-b49d-a0369f1fba7c\",\"eos.nbwds\":\"0\",\"eos.nfwds\":\"0\",\"eos.nrc\":\"0\",\"eos.nwc\":\"3\",\"eos.nxlbwds\":\"0\",\"eos.nxlfwds\":\"0\",\"eos.osize\":\"0\",\"eos.otms\":\"109\",\"eos.ots\":\"1548009771\",\"eos.path\":\"/eos/cms/store/unified/www/joblogs/vlimant_ACDC0_task_SUS-RunIISummer16FSPremix-00090__v1_T_190118_174333_8486/139/SUS-RunIISummer16FSPremix-00090_0/f585f0eb-1e6b-4722-8266-5254e7975115-72-1-logArchive/job/WMTaskSpace/cmsRun1/lheevent/process/madevent/SubProcesses/P3_gq_urdlxgq/G168.08/run1_app.log\",\"eos.rb\":\"0\",\"eos.rb_max\":\"0\",\"eos.rb_min\":\"0\",\"eos.rb_sigma\":\"0.00\",\"eos.rc_max\":\"0\",\"eos.rc_min\":\"0\",\"eos.rc_sigma\":\"0.00\",\"eos.rc_sum\":\"0\",\"eos.rgid\":\"1399\",\"eos.rs_op\":\"0\",\"eos.rsb_max\":\"0\",\"eos.rsb_min\":\"0\",\"eos.rsb_sigma\":\"0.00\",\"eos.rsb_sum\":\"0\",\"eos.rt\":\"0.00\",\"eos.ruid\":\"103074\",\"eos.rv_op\":\"0\",\"eos.rvb_max\":\"0\",\"eos.rvb_min\":\"0\",\"eos.rvb_sigma\":\"0.00\",\"eos.rvb_sum\":\"0\",\"eos.rvt\":\"0.00\",\"eos.sbwdb\":\"0\",\"eos.sec.app\":\"fuse\",\"eos.sec.host\":\"vocms0268.ipv6.cern.ch\",\"eos.sec.name\":\"vlimant\",\"eos.sec.prot\":\"krb5\",\"eos.sfwdb\":\"0\",\"eos.sxlbwdb\":\"0\",\"eos.sxlfwdb\":\"0\",\"eos.td\":\"daemon.23360:250@lxfsre50c03\",\"eos.wb\":\"0\",\"eos.wb_max\":\"0\",\"eos.wb_min\":\"0\",\"eos.wb_sigma\":\"0.00\",\"eos.wt\":\"0.07\",\"raw\":\"log=30a723b0-1ce3-11e9-b49d-a0369f1fba7c&path=/eos/cms/store/unified/www/joblogs/vlimant_ACDC0_task_SUS-RunIISummer16FSPremix-00090__v1_T_190118_174333_8486/139/SUS-RunIISummer16FSPremix-00090_0/f585f0eb-1e6b-4722-8266-5254e7975115-72-1-logArchive/job/WMTaskSpace/cmsRun1/lheevent/process/madevent/SubProcesses/P3_gq_urdlxgq/G168.08/run1_app.log&fstpath=/data08/0001f4da/4c6c8f0b&ruid=103074&rgid=1399&td=daemon.23360:250@lxfsre50c03&host=lxfsrf65c02.cern.ch&lid=1048850&fid=1282182923&fsid=8953&ots=1548009771&otms=109&cts=1548009771&ctms=177&nrc=0&nwc=3&rb=0&rb_min=0&rb_max=0&rb_sigma=0.00&rv_op=0&rvb_min=0&rvb_max=0&rvb_sum=0&rvb_sigma=0.00&rs_op=0&rsb_min=0&rsb_max=0&rsb_sum=0&rsb_sigma=0.00&rc_min=0&rc_max=0&rc_sum=0&rc_sigma=0.00&wb=0&wb_min=0&wb_max=0&wb_sigma=0.00&sfwdb=0&sbwdb=0&sxlfwdb=0&sxlbwdb=0&nfwds=0&nbwds=0&nxlfwds=0&nxlbwds=0&rt=0.00&rvt=0.00&wt=0.07&osize=0&csize=49834&sec.prot=krb5&sec.name=vlimant&sec.host=vocms0268.ipv6.cern.ch&sec.vorg=&sec.grps=&sec.role=&sec.info=&sec.app=fuse\",\"real_timestamp\":\"1548009771000\"},\"metadata\":{\"_id\":\"e2a22c6d-77b3-dd33-d5d8-3357c1988e49\",\"host\":\"eoscms-srv-m1.cern.ch\",\"json\":\"true\",\"kafka_timestamp\":1548009773721,\"partition\":\"19\",\"path\":\"cms\",\"producer\":\"eos\",\"timestamp\":1548009771000,\"topic\":\"eos_logs\",\"type\":\"reports\",\"type_prefix\":\"logs\"}}\n",
    "    # in 2019 we have the following structure, version II after I reported eos prefix issue\n",
    "    {\"data\":{\"csize\":\"853699786\",\"ctms\":\"939\",\"cts\":\"1549043141\",\"eos_host\":\"p06253937y92607.cern.ch\",\"eos_path\":\"/eos/cms/store/cmst3/group/wmass/w-helicity-13TeV/trees/TREES_electrons_1l_V6_TINY/friends/tree_Friend_WJetsToLNu_NLO_part1.root\",\"fid\":\"1126583180\",\"fsid\":\"20546\",\"fstpath\":\"/data07/0001b812/43264b8c\",\"lid\":\"1048850\",\"log\":\"287544b4-2649-11e9-abe8-a0369f1fba7c\",\"nbwds\":\"145\",\"nfwds\":\"195\",\"nrc\":\"479\",\"nwc\":\"0\",\"nxlbwds\":\"144\",\"nxlfwds\":\"143\",\"osize\":\"853699786\",\"otms\":\"479\",\"ots\":\"1549043126\",\"prot\":\"krb5\",\"raw\":\"log=287544b4-2649-11e9-abe8-a0369f1fba7c&path=/eos/cms/store/cmst3/group/wmass/w-helicity-13TeV/trees/TREES_electrons_1l_V6_TINY/friends/tree_Friend_WJetsToLNu_NLO_part1.root&fstpath=/data07/0001b812/43264b8c&ruid=24421&rgid=1399&td=emanuele.81:510@b6644a93b5&host=p06253937y92607.cern.ch&lid=1048850&fid=1126583180&fsid=20546&ots=1549043126&otms=479&cts=1549043141&ctms=939&nrc=479&nwc=0&rb=41276444&rb_min=294&rb_max=326196&rb_sigma=101487.35&rv_op=0&rvb_min=0&rvb_max=0&rvb_sum=0&rvb_sigma=0.00&rs_op=0&rsb_min=0&rsb_max=0&rsb_sum=0&rsb_sigma=0.00&rc_min=0&rc_max=0&rc_sum=0&rc_sigma=0.00&wb=0&wb_min=0&wb_max=0&wb_sigma=0.00&sfwdb=3019121271&sbwdb=2233253538&sxlfwdb=3017497429&sxlbwdb=2233253338&nfwds=195&nbwds=145&nxlfwds=143&nxlbwds=144&rt=48.11&rvt=0.00&wt=0.00&osize=853699786&csize=853699786&sec.prot=krb5&sec.name=emanuele&sec.host=b6644a93b5.cern.ch&sec.vorg=&sec.grps=&sec.role=&sec.info=&sec.app=\",\"rb\":\"41276444\",\"rb_max\":\"326196\",\"rb_min\":\"294\",\"rb_sigma\":\"101487.35\",\"rc_max\":\"0\",\"rc_min\":\"0\",\"rc_sigma\":\"0.00\",\"rc_sum\":\"0\",\"real_timestamp\":\"1549043126000\",\"rgid\":\"1399\",\"rs_op\":\"0\",\"rsb_max\":\"0\",\"rsb_min\":\"0\",\"rsb_sigma\":\"0.00\",\"rsb_sum\":\"0\",\"rt\":\"48.11\",\"ruid\":\"24421\",\"rv_op\":\"0\",\"rvb_max\":\"0\",\"rvb_min\":\"0\",\"rvb_sigma\":\"0.00\",\"rvb_sum\":\"0\",\"rvt\":\"0.00\",\"sbwdb\":\"2233253538\",\"sec_host\":\"b6644a93b5.cern.ch\",\"sec_name\":\"emanuele\",\"sfwdb\":\"3019121271\",\"sxlbwdb\":\"2233253338\",\"sxlfwdb\":\"3017497429\",\"td\":\"emanuele.81:510@b6644a93b5\",\"wb\":\"0\",\"wb_max\":\"0\",\"wb_min\":\"0\",\"wb_sigma\":\"0.00\",\"wt\":\"0.00\"},\"metadata\":{\"_id\":\"a3b00488-552e-35a2-42f0-c52112655e15\",\"host\":\"eoscms-srv-b2.cern.ch\",\"json\":\"true\",\"kafka_timestamp\":1549043144145,\"partition\":\"10\",\"path\":\"cms\",\"producer\":\"eos\",\"timestamp\":1549043126000,\"topic\":\"eos_logs\",\"type\":\"reports\",\"type_prefix\":\"logs\"}}\n",
    "\n",
    "    The EOS record consist of data and metadata parts where data part squashed\n",
    "    into single string all requested parameters.\n",
    "\n",
    "    :returns: a dictionary with eos Spark DataFrame\n",
    "    \"\"\"\n",
    "    if  not date:\n",
    "        # by default we read yesterdate data\n",
    "        date = time.strftime(\"%Y/%m/%d\", time.gmtime(time.time()-60*60*24))\n",
    "\n",
    "    hpath = '%s/%s' % (hdir, date)\n",
    "    cols = ['data', 'metadata.timestamp']\n",
    "\n",
    "    files_in_hpath = files(hpath, verbose)\n",
    "\n",
    "    if len(files_in_hpath) == 0:\n",
    "        eos_df = sqlContext.createDataFrame([], schema=schema_empty_eos())\n",
    "        eos_df.registerTempTable('eos_df')\n",
    "        tables = {'eos_df':eos_df}\n",
    "        return tables\n",
    "    \n",
    "    # in Spark 2.X and 2019 we have different record\n",
    "    edf = sqlContext.read.json(hpath)\n",
    "    if verbose:\n",
    "        edf.printSchema()\n",
    "    \n",
    "    edf = edf.selectExpr(\"metadata.timestamp\", \"data.*\")\n",
    "    \n",
    "    # At this moment, json files can have one of two known schemas. In order to read several days we need to be able to work with both of them. \n",
    "    # eos_df = edf.select(data.getField(\"eos.path\").alias(\"file_lfn\"), data.getField(\"eos.sec.info\").alias(\"user_dn\"), data.getField(\"eos.sec.app\").alias(\"application\"), data.getField(\"eos.sec.host\").alias(\"host\"), edf.metadata.getField(\"timestamp\").alias(\"timestamp\"))\n",
    "    # eos_df = edf.select(eos_path, data.getField(\"sec_info\").alias(\"user_dn\"), data.getField(\"sec_app\").alias(\"application\"), data.getField(\"eos_host\").alias(\"host\"), edf.metadata.getField(\"timestamp\").alias(\"timestamp\"))\n",
    "    # We use the first relevant field to determine the current situation, if both columns exists, it means we read files with both schemas and now we need to combine them. \n",
    "    eos_df = None\n",
    "    if 'eos_path' in edf.columns and 'eos.path' in edf.columns:\n",
    "        eos_df = edf.selectExpr('nvl(eos_path,`eos.path`) as file_lfn', \n",
    "                                'nvl(sec_info,`eos.sec.info`) as user_dn', \n",
    "                                'nvl(sec_app,`eos.sec.app`) as application', \n",
    "                                'nvl(eos_host,`eos.sec.host`) as host', \n",
    "                                'nvl(csize,`eos.csize`) as csize','nvl(rb,`eos.rb`) as rb',\n",
    "                                'nvl(wb,`eos.wb`) as wb',\n",
    "                                'nvl(rt,`eos.rt`) as rt',\n",
    "                                'nvl(wt,`eos.wt`) as wt',\n",
    "                                'timestamp'  )\n",
    "    elif 'eos.path' in edf.columns:\n",
    "        eos_df = edf.selectExpr('`eos.path` as file_lfn', \n",
    "                                '`eos.sec.info` as user_dn',\n",
    "                                '`eos.sec.app` as application',\n",
    "                                '`eos.sec.host` as host',\n",
    "                                '`eos.csize` as csize',\n",
    "                                '`eos.rb` as rb',\n",
    "                                '`eos.wb` as wb',\n",
    "                                '`eos.rt` as rt',\n",
    "                                '`eos.wt` as wt', \n",
    "                                'timestamp')\n",
    "    elif 'eos_path' in edf.columns:\n",
    "        eos_df = edf.selectExpr('eos_path as file_lfn',\n",
    "                                'sec_info as user_dn',\n",
    "                                'sec_app as application',\n",
    "                                'sec_host as host',\n",
    "                                'csize',\n",
    "                                'rb',\n",
    "                                'wb', \n",
    "                                'rt', \n",
    "                                'wt',\n",
    "                                'timestamp')\n",
    "    else:\n",
    "        raise Exception(\"Its not a known format\")\n",
    "    \n",
    "    _long_fields = ['csize',\n",
    "                    'rb', \n",
    "                    'wb',\n",
    "                    'rt', \n",
    "                    'wt']\n",
    "    for _lf in _long_fields:\n",
    "        eos_df=eos_df.withColumn(_lf, eos_df[_lf].cast('long'))    \n",
    "    eos_df.registerTempTable('eos_df')\n",
    "    \n",
    "    if verbose:\n",
    "        eos_df.printSchema()\n",
    "        records = eos_df.take(1) # take function will return list of records\n",
    "        print(\"### rdd records\", records, type(records))\n",
    "\n",
    "    if  verbose:\n",
    "        records = eos_df.take(1) # take function will return list of records\n",
    "        print(\"### eos_rdd records\", records, type(records))\n",
    "\n",
    "    # create new spark DataFrame\n",
    "    eos_df.registerTempTable('eos_df')\n",
    "    tables = {'eos_df':eos_df}\n",
    "    return tables"
   ]
  },
  {
   "cell_type": "code",
   "execution_count": null,
   "metadata": {},
   "outputs": [],
   "source": []
  },
  {
   "cell_type": "markdown",
   "metadata": {},
   "source": [
    "```python\n",
    "def files(url,verbose):\n",
    "    URI = sc._gateway.jvm.java.net.URI\n",
    "    Path = sc._gateway.jvm.org.apache.hadoop.fs.Path\n",
    "    FileSystem = sc._gateway.jvm.org.apache.hadoop.fs.FileSystem\n",
    "    fs = FileSystem.get(URI(\"hdfs:///\"), sc._jsc.hadoopConfiguration())\n",
    "    l = fs.globStatus(Path(url))\n",
    "    return l\n",
    "```\n"
   ]
  },
  {
   "cell_type": "code",
   "execution_count": 16,
   "metadata": {},
   "outputs": [],
   "source": [
    "from pyspark.sql.functions import nanvl"
   ]
  },
  {
   "cell_type": "markdown",
   "metadata": {},
   "source": [
    "We could run this process monthly to create an aggregate parquet file (partitionated by month). "
   ]
  },
  {
   "cell_type": "code",
   "execution_count": 17,
   "metadata": {},
   "outputs": [],
   "source": [
    "#tables = eos_tables(spark, date='2019/[0-1][0-9]/[0-3][0-9]', verbose=False) # Note: I used spark instead of SQLContext - to be consistent with spark2 api changes. \n",
    "tables = eos_tables(spark, date=dates, verbose=False) # Note: I used spark instead of SQLContext - to be consistent with spark2 api changes. --TEST--"
   ]
  },
  {
   "cell_type": "code",
   "execution_count": 18,
   "metadata": {},
   "outputs": [],
   "source": [
    "df = tables['eos_df']"
   ]
  },
  {
   "cell_type": "code",
   "execution_count": 19,
   "metadata": {},
   "outputs": [
    {
     "name": "stdout",
     "output_type": "stream",
     "text": [
      "root\n",
      " |-- file_lfn: string (nullable = true)\n",
      " |-- user_dn: string (nullable = true)\n",
      " |-- application: string (nullable = true)\n",
      " |-- host: string (nullable = true)\n",
      " |-- csize: long (nullable = true)\n",
      " |-- rb: long (nullable = true)\n",
      " |-- wb: long (nullable = true)\n",
      " |-- rt: long (nullable = true)\n",
      " |-- wt: long (nullable = true)\n",
      " |-- timestamp: long (nullable = true)\n",
      "\n"
     ]
    }
   ],
   "source": [
    "df.printSchema()"
   ]
  },
  {
   "cell_type": "markdown",
   "metadata": {},
   "source": [
    "# Checkpoint"
   ]
  },
  {
   "cell_type": "code",
   "execution_count": 20,
   "metadata": {},
   "outputs": [],
   "source": [
    "from pyspark.sql.functions import date_format, from_unixtime\n",
    "df=df.withColumn('day',date_format(from_unixtime(df.timestamp/1000),'yyyyMMdd'))"
   ]
  },
  {
   "cell_type": "code",
   "execution_count": 21,
   "metadata": {},
   "outputs": [],
   "source": [
    "df.write.partitionBy('day').mode(\"overwrite\").parquet(parquet_file)"
   ]
  },
  {
   "cell_type": "code",
   "execution_count": 22,
   "metadata": {},
   "outputs": [],
   "source": [
    "df = spark.read.parquet(parquet_file)\n",
    "df.registerTempTable('eos_df')"
   ]
  },
  {
   "cell_type": "code",
   "execution_count": 23,
   "metadata": {},
   "outputs": [
    {
     "name": "stdout",
     "output_type": "stream",
     "text": [
      "Use the following data on HDFS\n"
     ]
    },
    {
     "data": {
      "text/plain": [
       "{'ddf': DataFrame[d_dataset_id: int, d_dataset: string, d_is_dataset_valid: int, d_primary_ds_id: int, d_processed_ds_id: int, d_data_tier_id: int, d_dataset_access_type_id: int, d_acquisition_era_id: int, d_processing_era_id: int, d_physics_group_id: int, d_xtcrosssection: double, d_prep_id: string, d_creation_date: double, d_create_by: string, d_last_modification_date: double, d_last_modified_by: string],\n",
       " 'fdf': DataFrame[f_file_id: int, f_logical_file_name: string, f_is_file_valid: int, f_dataset_id: int, f_block_id: int, f_file_type_id: int, f_check_sum: string, f_event_count: int, f_file_size: double, f_branch_hash_id: int, f_adler32: string, f_md5: string, f_auto_cross_section: double, f_creation_date: double, f_create_by: string, f_last_modification_date: double, f_last_modified_by: string]}"
      ]
     },
     "execution_count": 23,
     "metadata": {},
     "output_type": "execute_result"
    }
   ],
   "source": [
    "tables = dbs_tables(spark, tables=['ddf','fdf'])\n",
    "tables"
   ]
  },
  {
   "cell_type": "code",
   "execution_count": 24,
   "metadata": {
    "scrolled": true
   },
   "outputs": [
    {
     "name": "stdout",
     "output_type": "stream",
     "text": [
      "+--------------------+--------------------+------------+--------------------+----------+-------+--------+---+---+-------------+--------+\n",
      "|            file_lfn|             user_dn| application|                host|     csize|     rb|      wb| rt| wt|    timestamp|     day|\n",
      "+--------------------+--------------------+------------+--------------------+----------+-------+--------+---+---+-------------+--------+\n",
      "|/eos/cms/store/te...|/DC=ch/DC=cern/OU...|        null|p06636710a25939.c...|     33413|      0|   33413|  0|  0|1549005402000|20190201|\n",
      "|/eos/cms/store/da...|/DC=ch/DC=cern/OU...|        null| lxfsre40c01.cern.ch|2103435048|5866597|       0|243|  0|1549005245000|20190201|\n",
      "|/eos/cms/store/un...|/DC=ch/DC=cern/OU...|        null| lxfsre64c03.cern.ch|   2050927|2050927|       0| 50|  0|1549005402000|20190201|\n",
      "|/eos/cms/store/te...|/DC=ch/DC=cern/OU...|        null|p06636710c97232.c...|     38033|      0|       0|  0|  0|1549005404000|20190201|\n",
      "|/eos/cms/store/te...|/DC=ch/DC=cern/OU...|        null|p06253937u84824.c...|     40810|      0|       0|  0|  0|1549005404000|20190201|\n",
      "|/eos/cms/store/lo...|                   -|eos/draining|p05614923f76974.c...|    218704|      0|  218704|  0|  0|1549005403000|20190201|\n",
      "|/eos/cms/store/gr...|                   -|eos/draining|p05799459j85533.c...|  17308533|      0|17308533|  0|  8|1549005403000|20190201|\n",
      "|/eos/cms/store/ex...|                   -|eos/draining|p05614923g17338.c...|  12344676|      0|12344676|  0|  5|1549005400000|20190201|\n",
      "|/eos/cms/store/lo...|                   -|eos/draining| lxfsrf39c03.cern.ch|    275705|      0|  275705|  0|  0|1549005406000|20190201|\n",
      "|/eos/cms/store/cm...|                   -|eos/draining|p05799459h00573.c...|   2314790|2314790|       0| 86|  0|1549005403000|20190201|\n",
      "+--------------------+--------------------+------------+--------------------+----------+-------+--------+---+---+-------------+--------+\n",
      "only showing top 10 rows\n",
      "\n"
     ]
    }
   ],
   "source": [
    "df.filter((df.file_lfn.isNull()==False) & (df.user_dn.isNull()==False)).show(10)"
   ]
  },
  {
   "cell_type": "code",
   "execution_count": 25,
   "metadata": {
    "scrolled": true
   },
   "outputs": [
    {
     "name": "stdout",
     "output_type": "stream",
     "text": [
      "+--------+---------+-----------+\n",
      "|database|tableName|isTemporary|\n",
      "+--------+---------+-----------+\n",
      "|        |      ddf|       true|\n",
      "|        |   eos_df|       true|\n",
      "|        |      fdf|       true|\n",
      "+--------+---------+-----------+\n",
      "\n"
     ]
    }
   ],
   "source": [
    "spark.sql(\"show tables\").show()"
   ]
  },
  {
   "cell_type": "code",
   "execution_count": 26,
   "metadata": {},
   "outputs": [
    {
     "data": {
      "text/plain": [
       "[Row(f_file_id=11167853, f_logical_file_name=u'/store/data/Commissioning08/Cosmics/RECO/CruzetAll_HLT_L1Basic-v1/000/058/546/E2813760-1C0D-DE11-AA92-001617DBD5AC.root', f_is_file_valid=1, f_dataset_id=13615, f_block_id=574289, f_file_type_id=1, f_check_sum=u'1934797535', f_event_count=24043, f_file_size=2886176192.0, f_branch_hash_id=None, f_adler32=u'NOTSET', f_md5=u'NOTSET', f_auto_cross_section=None, f_creation_date=1236656156.0, f_create_by=u'/DC=ch/DC=cern/OU=computers/CN=vocms39.cern.ch', f_last_modification_date=1239909559.0, f_last_modified_by=u'/DC=ch/DC=cern/OU=computers/CN=vocms39.cern.ch')]"
      ]
     },
     "execution_count": 26,
     "metadata": {},
     "output_type": "execute_result"
    }
   ],
   "source": [
    "tables['fdf'].head(1)"
   ]
  },
  {
   "cell_type": "code",
   "execution_count": 27,
   "metadata": {},
   "outputs": [
    {
     "data": {
      "text/plain": [
       "[Row(d_dataset_id=48, d_dataset=u'/znn4j_1600ptz3200-alpgen/CMSSW_1_4_9-CSA07-4157/GEN-SIM', d_is_dataset_valid=1, d_primary_ds_id=15537, d_processed_ds_id=17760, d_data_tier_id=109, d_dataset_access_type_id=81, d_acquisition_era_id=202, d_processing_era_id=1, d_physics_group_id=37, d_xtcrosssection=None, d_prep_id=None, d_creation_date=1206050276.0, d_create_by=u'/DC=ch/DC=cern/OU=Organic Units/OU=Users/CN=aresh/CN=669724/CN=Aresh Vedaee', d_last_modification_date=1261148491.0, d_last_modified_by=u'/DC=org/DC=doegrids/OU=People/CN=Si Xie 523253')]"
      ]
     },
     "execution_count": 27,
     "metadata": {},
     "output_type": "execute_result"
    }
   ],
   "source": [
    "tables['ddf'].head(1)"
   ]
  },
  {
   "cell_type": "code",
   "execution_count": 28,
   "metadata": {},
   "outputs": [
    {
     "data": {
      "text/plain": [
       "[Row(file_lfn=None, user_dn=None, application=u'deletion', host=u'lxfsrf49c01.cern.ch', csize=None, rb=None, wb=None, rt=None, wt=None, timestamp=1549001329000, day=20190201),\n",
       " Row(file_lfn=None, user_dn=None, application=u'rm', host=u'eoscms-srv-m1.cern.ch', csize=None, rb=None, wb=None, rt=None, wt=None, timestamp=1549005406000, day=20190201),\n",
       " Row(file_lfn=u'/eos/cms/store/logs/prod/recent/sagarwal_task_SUS-PhaseIISummer17wmLHEGENOnly-00061__v1_T_180727_155350_705/SUS-PhaseIISummer17wmLHEGENOnly-00061_0/vocms0253.cern.ch-1835058-0-log.tar.gz', user_dn=u'-', application=u'eos/draining', host=u'p05614923f76974.cern.ch', csize=218704, rb=0, wb=218704, rt=0, wt=0, timestamp=1549005403000, day=20190201),\n",
       " Row(file_lfn=u'/eos/cms/store/group/dpg_tracker_pixel/comm_pixel/Monitoring/2018/RunD/Express/Resolution/324245_express/Resolution_324245_1447.root', user_dn=u'-', application=u'eos/draining', host=u'p05799459j85533.cern.ch', csize=17308533, rb=0, wb=17308533, rt=0, wt=8, timestamp=1549005403000, day=20190201),\n",
       " Row(file_lfn=u'/eos/cms/store/express/Commissioning2018/StreamExpress/ALCAPROMPT/PromptCalibProdSiPixelAli-Express-v1/000/315/154/00000/B0586F44-A248-E811-A0D1-02163E01A091.root', user_dn=u'-', application=u'eos/draining', host=u'p05614923g17338.cern.ch', csize=12344676, rb=0, wb=12344676, rt=0, wt=5, timestamp=1549005400000, day=20190201)]"
      ]
     },
     "execution_count": 28,
     "metadata": {},
     "output_type": "execute_result"
    }
   ],
   "source": [
    "df.filter(df.application.isNotNull()).head(5)"
   ]
  },
  {
   "cell_type": "markdown",
   "metadata": {},
   "source": [
    "# Datasets by day"
   ]
  },
  {
   "cell_type": "code",
   "execution_count": 29,
   "metadata": {},
   "outputs": [],
   "source": [
    "grouped = spark.sql(\n",
    "    \"\"\"\n",
    "    select d_dataset, \n",
    "           file_lfn,\n",
    "           day,\n",
    "           application,\n",
    "           count(timestamp) as nevents,\n",
    "           mean(csize) as avg_size,\n",
    "           sum(rb) as total_rb,\n",
    "           sum(wb) as total_wb,\n",
    "           sum(rt) as total_rt, \n",
    "           sum(wt) as total_wt\n",
    "    from eos_df join fdf on file_lfn = concat('/eos/cms',f_logical_file_name) join ddf on d_dataset_id = f_dataset_id\n",
    "    group by d_dataset, file_lfn, day, application\n",
    "    \"\"\")"
   ]
  },
  {
   "cell_type": "code",
   "execution_count": 30,
   "metadata": {},
   "outputs": [
    {
     "data": {
      "text/plain": [
       "[Row(d_dataset=u'/GluGluHToTauTau_M125_13TeV_powheg_pythia8/RunIISpring15DR74-Asympt25ns_MCRUN2_74_V9-v1/MINIAODSIM', file_lfn=u'/eos/cms/store/mc/RunIISpring15DR74/GluGluHToTauTau_M125_13TeV_powheg_pythia8/MINIAODSIM/Asympt25ns_MCRUN2_74_V9-v1/40000/6A285992-FE32-E511-AE1A-002590FD5A3A.root', day=20190221, application=u'eos/gridftp', nevents=4, avg_size=1431696223.0, total_rb=0, total_wb=2863392446, total_rt=0, total_wt=11454),\n",
       " Row(d_dataset=u'/GluGluHToTauTau_M125_13TeV_powheg_pythia8/RunIISpring15DR74-Asympt25ns_MCRUN2_74_V9-v1/MINIAODSIM', file_lfn=u'/eos/cms/store/mc/RunIISpring15DR74/GluGluHToTauTau_M125_13TeV_powheg_pythia8/MINIAODSIM/Asympt25ns_MCRUN2_74_V9-v1/50000/CCBD5E4B-BB2E-E511-A84F-842B2B2B0C7C.root', day=20190218, application=u'eos/gridftp', nevents=4, avg_size=839989357.0, total_rb=0, total_wb=1679978714, total_rt=0, total_wt=2550),\n",
       " Row(d_dataset=u'/GluGluHToTauTau_M125_13TeV_powheg_pythia8/RunIISpring15DR74-Asympt25ns_MCRUN2_74_V9-v1/MINIAODSIM', file_lfn=u'/eos/cms/store/mc/RunIISpring15DR74/GluGluHToTauTau_M125_13TeV_powheg_pythia8/MINIAODSIM/Asympt25ns_MCRUN2_74_V9-v1/40000/4040BC91-FE32-E511-98FF-0CC47A0AD476.root', day=20190218, application=u'eos/gridftp', nevents=4, avg_size=1431002812.0, total_rb=0, total_wb=2862005624, total_rt=0, total_wt=4292)]"
      ]
     },
     "execution_count": 30,
     "metadata": {},
     "output_type": "execute_result"
    }
   ],
   "source": [
    "grouped.head(3)"
   ]
  },
  {
   "cell_type": "markdown",
   "metadata": {},
   "source": []
  },
  {
   "cell_type": "code",
   "execution_count": 31,
   "metadata": {},
   "outputs": [],
   "source": [
    "import seaborn as sns\n",
    "from pyspark.sql.functions import countDistinct"
   ]
  },
  {
   "cell_type": "code",
   "execution_count": 32,
   "metadata": {},
   "outputs": [],
   "source": [
    "pdf = grouped.groupby('day').agg(countDistinct('d_dataset')).toPandas()"
   ]
  },
  {
   "cell_type": "code",
   "execution_count": 33,
   "metadata": {
    "scrolled": true
   },
   "outputs": [
    {
     "data": {
      "text/plain": [
       "[Text(0,0,'20190101'),\n",
       " Text(0,0,'20190102'),\n",
       " Text(0,0,'20190103'),\n",
       " Text(0,0,'20190104'),\n",
       " Text(0,0,'20190105'),\n",
       " Text(0,0,'20190106'),\n",
       " Text(0,0,'20190107'),\n",
       " Text(0,0,'20190108'),\n",
       " Text(0,0,'20190109'),\n",
       " Text(0,0,'20190110'),\n",
       " Text(0,0,'20190111'),\n",
       " Text(0,0,'20190112'),\n",
       " Text(0,0,'20190113'),\n",
       " Text(0,0,'20190114'),\n",
       " Text(0,0,'20190115'),\n",
       " Text(0,0,'20190116'),\n",
       " Text(0,0,'20190117'),\n",
       " Text(0,0,'20190118'),\n",
       " Text(0,0,'20190119'),\n",
       " Text(0,0,'20190120'),\n",
       " Text(0,0,'20190121'),\n",
       " Text(0,0,'20190122'),\n",
       " Text(0,0,'20190123'),\n",
       " Text(0,0,'20190124'),\n",
       " Text(0,0,'20190125'),\n",
       " Text(0,0,'20190126'),\n",
       " Text(0,0,'20190127'),\n",
       " Text(0,0,'20190128'),\n",
       " Text(0,0,'20190129'),\n",
       " Text(0,0,'20190130'),\n",
       " Text(0,0,'20190131'),\n",
       " Text(0,0,'20190201'),\n",
       " Text(0,0,'20190202'),\n",
       " Text(0,0,'20190203'),\n",
       " Text(0,0,'20190204'),\n",
       " Text(0,0,'20190205'),\n",
       " Text(0,0,'20190206'),\n",
       " Text(0,0,'20190207'),\n",
       " Text(0,0,'20190208'),\n",
       " Text(0,0,'20190209'),\n",
       " Text(0,0,'20190210'),\n",
       " Text(0,0,'20190211'),\n",
       " Text(0,0,'20190212'),\n",
       " Text(0,0,'20190213'),\n",
       " Text(0,0,'20190214'),\n",
       " Text(0,0,'20190215'),\n",
       " Text(0,0,'20190216'),\n",
       " Text(0,0,'20190217'),\n",
       " Text(0,0,'20190218'),\n",
       " Text(0,0,'20190219'),\n",
       " Text(0,0,'20190220'),\n",
       " Text(0,0,'20190221'),\n",
       " Text(0,0,'20190222'),\n",
       " Text(0,0,'20190223'),\n",
       " Text(0,0,'20190224'),\n",
       " Text(0,0,'20190225'),\n",
       " Text(0,0,'20190226'),\n",
       " Text(0,0,'20190227'),\n",
       " Text(0,0,'20190228'),\n",
       " Text(0,0,'20190301'),\n",
       " Text(0,0,'20190302'),\n",
       " Text(0,0,'20190303'),\n",
       " Text(0,0,'20190304'),\n",
       " Text(0,0,'20190305'),\n",
       " Text(0,0,'20190306'),\n",
       " Text(0,0,'20190307'),\n",
       " Text(0,0,'20190308'),\n",
       " Text(0,0,'20190309'),\n",
       " Text(0,0,'20190310'),\n",
       " Text(0,0,'20190311')]"
      ]
     },
     "execution_count": 33,
     "metadata": {},
     "output_type": "execute_result"
    },
    {
     "data": {
      "image/png": "[encoded data removed]",
      "text/plain": [
       "<Figure size 2138.4x1512 with 1 Axes>"
      ]
     },
     "metadata": {},
     "output_type": "display_data"
    }
   ],
   "source": [
    "from matplotlib import pyplot\n",
    "a4_dims = (29.7, 21.0)\n",
    "fig, ax = pyplot.subplots(figsize=a4_dims)\n",
    "sns.set_palette(sns.color_palette(\"Blues\"))\n",
    "plot = sns.barplot(x='day',y='count(DISTINCT d_dataset)',data=pdf)\n",
    "pyplot.xlabel(\"Day\")\n",
    "pyplot.ylabel(\"Number of different datasets used\")\n",
    "pyplot.suptitle(\"Number of datasets accessed by day\")\n",
    "pyplot.title(\"\"\"\n",
    "Number of accesses per day\n",
    "\"\"\")\n",
    "ax.set_xticklabels(ax.get_xticklabels(), rotation=90)"
   ]
  },
  {
   "cell_type": "markdown",
   "metadata": {},
   "source": [
    "# Lists\n",
    "\n",
    "The answer to the proposed requeriments are two lists. \n",
    "    - The first one is a list with datasets and their totals (Read and Written bytes, I/O times, and average size)\n",
    "    - The second one is a list with files by day with application and nevents. "
   ]
  },
  {
   "cell_type": "code",
   "execution_count": 34,
   "metadata": {},
   "outputs": [
    {
     "name": "stdout",
     "output_type": "stream",
     "text": [
      "+--------------------+--------------------+--------+-------------+-------+-------------+----------+----------+--------+--------+\n",
      "|           d_dataset|            file_lfn|     day|  application|nevents|     avg_size|  total_rb|  total_wb|total_rt|total_wt|\n",
      "+--------------------+--------------------+--------+-------------+-------+-------------+----------+----------+--------+--------+\n",
      "|/ZeroBias4/Run201...|/eos/cms/store/da...|20190211| eos/draining|      8| 3.65158474E8|1460633896|1460633896|   25132|     904|\n",
      "|/ZeroBias4/Run201...|/eos/cms/store/da...|20190207|eos/balancing|      4| 1.93445658E8| 386891316| 386891316|     640|     232|\n",
      "|/ZeroBias4/Run201...|/eos/cms/store/da...|20190207|eos/balancing|      4|  3.3260591E9|6652118200|6652118200|   11886|    8374|\n",
      "|/WprimeToTBprimeJ...|/eos/cms/store/mc...|20190303|  eos/gridftp|      4|2.591004126E9|         0|5182008252|       0|    6560|\n",
      "|/DoubleMuonLowMas...|/eos/cms/store/da...|20190217|  eos/gridftp|      4|2.026766421E9|         0|4053532842|       0|    4902|\n",
      "+--------------------+--------------------+--------+-------------+-------+-------------+----------+----------+--------+--------+\n",
      "only showing top 5 rows\n",
      "\n"
     ]
    }
   ],
   "source": [
    "grouped.show(5)"
   ]
  },
  {
   "cell_type": "code",
   "execution_count": 35,
   "metadata": {},
   "outputs": [],
   "source": [
    "grouped.registerTempTable('_grouped')\n",
    "_datasets_totals = spark.sql('''\n",
    "SELECT d_dataset, sum(nevents) as nevents, sum(avg_size*nevents)/sum(nevents) as avg_size, sum(total_rb) as total_rb, sum(total_wb) as total_wb, sum(total_rt) as total_rt, sum(total_wt) as total_wt\n",
    "from _grouped group by d_dataset''').toPandas()"
   ]
  },
  {
   "cell_type": "code",
   "execution_count": 36,
   "metadata": {},
   "outputs": [],
   "source": [
    "_datasets_totals.to_csv('dataset_summary.csv')"
   ]
  },
  {
   "cell_type": "code",
   "execution_count": 37,
   "metadata": {},
   "outputs": [
    {
     "data": {
      "text/plain": [
       "<matplotlib.axes._subplots.AxesSubplot at 0x7f824c37da50>"
      ]
     },
     "execution_count": 37,
     "metadata": {},
     "output_type": "execute_result"
    },
    {
     "data": {
      "image/png": "[encoded data removed]",
      "text/plain": [
       "<Figure size 432x288 with 1 Axes>"
      ]
     },
     "metadata": {},
     "output_type": "display_data"
    }
   ],
   "source": [
    "top_dataset_by_rb = _datasets_totals.sort_values('total_rb',ascending=False).head(10)\n",
    "palette=sns.color_palette('Blues',n_colors=10)\n",
    "palette.reverse()\n",
    "sns.set_palette(palette)\n",
    "#sns.palplot(sns.color_palette('Blues', n_colors=10))\n",
    "sns.barplot(y='d_dataset',x='total_rb',data=top_dataset_by_rb)\n"
   ]
  },
  {
   "cell_type": "code",
   "execution_count": 38,
   "metadata": {},
   "outputs": [
    {
     "data": {
      "text/plain": [
       "<matplotlib.axes._subplots.AxesSubplot at 0x7f824c45b910>"
      ]
     },
     "execution_count": 38,
     "metadata": {},
     "output_type": "execute_result"
    },
    {
     "data": {
      "image/png": "[encoded data removed]",
      "text/plain": [
       "<Figure size 432x288 with 1 Axes>"
      ]
     },
     "metadata": {},
     "output_type": "display_data"
    }
   ],
   "source": [
    "top_dataset_by_rt = _datasets_totals.sort_values('total_rt',ascending=False).head(10)\n",
    "sns.barplot(y='d_dataset',x='total_rt',data=top_dataset_by_rt)"
   ]
  },
  {
   "cell_type": "code",
   "execution_count": 39,
   "metadata": {},
   "outputs": [],
   "source": [
    "grouped.write.option('header','true').mode('overwrite').csv('salidaEOS') # -saves to hdfs- maybe it not make sense to download all the data (filter list by app?)"
   ]
  },
  {
   "cell_type": "code",
   "execution_count": null,
   "metadata": {},
   "outputs": [],
   "source": []
  }
 ],
 "metadata": {
  "kernelspec": {
   "display_name": "Python 2",
   "language": "python",
   "name": "python2"
  },
  "language_info": {
   "codemirror_mode": {
    "name": "ipython",
    "version": 2
   },
   "file_extension": ".py",
   "mimetype": "text/x-python",
   "name": "python",
   "nbconvert_exporter": "python",
   "pygments_lexer": "ipython2",
   "version": "2.7.15"
  },
  "sparkconnect": {
   "bundled_options": [],
   "list_of_options": [
    {
     "name": "spark.driver.memory",
     "value": "4g"
    },
    {
     "name": "spark.executor.instances",
     "value": "60"
    },
    {
     "name": "spark.executor.memory",
     "value": "4g"
    }
   ]
  }
 },
 "nbformat": 4,
 "nbformat_minor": 2
}
