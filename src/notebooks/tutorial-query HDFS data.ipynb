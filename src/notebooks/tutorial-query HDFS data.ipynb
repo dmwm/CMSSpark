{
 "cells": [
  {
   "cell_type": "markdown",
   "metadata": {},
   "source": [
    "# Query HDFS Data\n",
    "In this tutorial you will query the HDFS data you ingested using the MonIT flow. \n",
    "## Prerequisites \n",
    "  - A swan environment:\n",
    "      - If you haven't used swan or cernbox before login first in [cernbox](http://cernbox.cern.ch/) to have you eos folder created.\n",
    "      - If you haven't used HDFS at cern before, you will need to create a [SNOW ticket to the Hadoop service element](https://hadoop-user-guide.web.cern.ch/hadoop-user-guide/getstart/access.html) to have your account authorized.\n",
    "        Please specify that you will use the Analytix cluster to access CMS data. \n",
    "      - go to https://swan.cern.ch, login and create a new session with the following configuration:\n",
    "          - Software stack `96 Python 3`\n",
    "          - Platform `CentOS 7 (gcc8)`\n",
    "          - Number of cores 4\n",
    "          - Memory 8 GB\n",
    "          - Spark cluster `Analytix`\n",
    "  - This notebook.\n",
    "      - In swan, create a new project (using the + button). Enter to the project folder. \n",
    "      - Download this notebook and import it to the new project using the upload file button.\n",
    "\n",
    "# Before start running the notebook      \n",
    "\n",
    "Swan will take care of the creation of the spark session/spark context variables. In order to do so you need to start the spark session using the star icon.\n",
    "![]( data:image/png;base64,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)\n",
    "For this notebook you can start the session using the default configuration. \n",
    "Before clicking connect take some time to explore this interface, some useful variables you could set here are:\n",
    "  - spark.executor.memory\n",
    "  - spark.driver.memory\n",
    "  - spark.executor.instances\n",
    "  - spark.executor.cores\n",
    "  - spark.sql.shuffle.partitions"
   ]
  },
  {
   "cell_type": "markdown",
   "metadata": {},
   "source": [
    "Once you are connected to the spark session two variables are created for you:\n",
    "    - `spark`: The spark session\n",
    "    - `sc`: The spark context\n",
    "Run the next cell to see more information about them:"
   ]
  },
  {
   "cell_type": "code",
   "execution_count": null,
   "metadata": {
    "scrolled": false
   },
   "outputs": [],
   "source": [
    "display(spark)\n",
    "display(sc)"
   ]
  },
  {
   "cell_type": "markdown",
   "metadata": {},
   "source": [
    "Also, as you are now connected to a hadoop cluster, you can use the Hadoop (elephant) icon to browse the data in HDFS. Use it to see the available dates in `/project/monitoring/archive/condor/raw/metric/`\n",
    "![](data:image/svg+xml;base64,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)\n",
    "\n"
   ]
  },
  {
   "cell_type": "markdown",
   "metadata": {},
   "source": [
    "# Read a json dataset using spark\n",
    "If you know the schema or the fields you want to query, you should specify it. Otherwise the spark.read.json will try to infer the schema reading the whole dataset (by default, you can use an option to make it use only a sample). \n",
    "Most of the time you only need a subset of the available fields, you only need to specify that subset in the schema. \n",
    "\n",
    "*Run the following cell to create a spark dataframe with the desired fields.*\n",
    "\n",
    "To see the efects of specifying the schema, you could run the same cell without specifying the schema. **WARNING**: Spark operations are lazy, they execute only when you call an action, but the infer schema step will start inmediatelly and for this data can take around 8 minutes to finish with 64 executors and two cores per executor. "
   ]
  },
  {
   "cell_type": "code",
   "execution_count": null,
   "metadata": {},
   "outputs": [],
   "source": [
    "from pyspark.sql.types import StructField, StructType, StringType, LongType\n",
    "_schema = StructType([\n",
    "    StructField('metadata', StructType([StructField(\"_id\",StringType(), nullable=False), \n",
    "                                        StructField(\"timestamp\",LongType(), nullable=False)])),\n",
    "    StructField('data', StructType([\n",
    "        StructField(\"GlobalJobId\", StringType(), nullable=False),\n",
    "        StructField(\"RecordTime\", LongType(), nullable=False),\n",
    "        StructField(\"Status\", StringType(), nullable=True),\n",
    "        StructField(\"CMSPrimaryPrimaryDataset\", StringType(), nullable=True),\n",
    "        \n",
    "    ])),\n",
    "])\n",
    "\n",
    "condor_df = spark.read.json(\"/project/monitoring/archive/condor/raw/metric/2019/10/31\", schema=_schema)"
   ]
  },
  {
   "cell_type": "markdown",
   "metadata": {},
   "source": [
    "Now we can process the data, for example we can query for the most popular datasets (the dataset that appears on more jobs as primary dataset), considering only the completed jobs."
   ]
  },
  {
   "cell_type": "code",
   "execution_count": null,
   "metadata": {},
   "outputs": [],
   "source": [
    "# First, we select the fields we want to work with. (Exploding the nested structures will make easier to work with the data)\n",
    "# We filter the records to only take into account the ones we want. \n",
    "# And we drop duplicates, as we want to count every job only once. \n",
    "condor_df = condor_df.select(\"data.*\").where(\"Status = 'Completed' AND CMSPrimaryPrimaryDataset IS NOT NULL\").drop_duplicates([\"GlobalJobId\"])"
   ]
  },
  {
   "cell_type": "code",
   "execution_count": null,
   "metadata": {},
   "outputs": [],
   "source": [
    "# Now we group and count by Dataset, and filter out the datasets that appear on only one job. \n",
    "grouped_data = condor_df.groupby(\"CMSPrimaryPrimaryDataset\").count().where(\"count>1\").orderBy(\"count\", ascending=False)"
   ]
  },
  {
   "cell_type": "markdown",
   "metadata": {},
   "source": [
    "Note that, so far, we haven't perform any opperation on our data, because all the methods we have used so far are transformations. \n",
    "\n",
    "Now we will use an action to create the spark job. \n",
    "As we know that we will have small number of rows and only two columns we can use the toPandas method to get the data into the driver as a pandas dataframe. Be aware of the amount of data you get into the driver as it must fit into memory. If your results are two big to collect them in one machine you can write them back to HDFS.\n",
    "```\n",
    "grouped_data.write.csv(\"outputFolder\",header=\"True\")\n",
    "```"
   ]
  },
  {
   "cell_type": "code",
   "execution_count": null,
   "metadata": {},
   "outputs": [],
   "source": [
    "grouped_data.toPandas()"
   ]
  },
  {
   "cell_type": "markdown",
   "metadata": {},
   "source": [
    "Now that you have seen the result on a small time period, try changing the file path to have several days. You can do it either changing the string for a list of paths, or using glob expressions. \n",
    "e.g.\n",
    "\n",
    "```python \n",
    "# all October\n",
    "condor_df = spark.read.json(\"/project/monitoring/archive/condor/raw/metric/2019/10/*\", schema=_schema)\n",
    "\n",
    "```\n",
    "\n",
    "```python \n",
    "# May to October 2019\n",
    "condor_df = spark.read.json(\"/project/monitoring/archive/condor/raw/metric/2019/{05,06,07,08,09,10}/*\", schema=_schema)\n",
    "```\n",
    "```python \n",
    "# May to October 2019 (as list)\n",
    "condor_df = spark.read.json([\"/project/monitoring/archive/condor/raw/metric/2019/05/*\",\n",
    "                             \"/project/monitoring/archive/condor/raw/metric/2019/06/*\",\n",
    "                             \"/project/monitoring/archive/condor/raw/metric/2019/07/*\",\n",
    "                             \"/project/monitoring/archive/condor/raw/metric/2019/08/*\",\n",
    "                             \"/project/monitoring/archive/condor/raw/metric/2019/09/*\",\n",
    "                             \"/project/monitoring/archive/condor/raw/metric/2019/10/*\"], schema=_schema)\n",
    "```\n",
    "(As this parameters include glob expressions, the json will trigger a job to find the leaf nodes, i.e. the actual filenames). "
   ]
  },
  {
   "cell_type": "code",
   "execution_count": null,
   "metadata": {},
   "outputs": [],
   "source": [
    "_schema = StructType([\n",
    "    StructField('metadata', StructType([StructField(\"_id\",StringType(), nullable=False), \n",
    "                                        StructField(\"timestamp\",LongType(), nullable=False)])),\n",
    "    StructField('data', StructType([\n",
    "        StructField(\"GlobalJobId\", StringType(), nullable=False),\n",
    "        StructField(\"RecordTime\", LongType(), nullable=False),\n",
    "        StructField(\"Status\", StringType(), nullable=True),\n",
    "        StructField(\"CMSPrimaryPrimaryDataset\", StringType(), nullable=True),\n",
    "        \n",
    "    ])),\n",
    "])\n",
    "\n",
    "condor_df = spark.read.json(\"/project/monitoring/archive/condor/raw/metric/2019/{05,06,07,08,09,10}/*\", schema=_schema)\n",
    "# First, we select the fields we want to work with. (Exploding the nested structures will make easier to work with the data)\n",
    "# We filter the records to only take into account the ones we want. \n",
    "# And we drop duplicates, as we want to count every job only once. \n",
    "condor_df = condor_df.select(\"data.*\").where(\"Status = 'Completed' AND CMSPrimaryPrimaryDataset IS NOT NULL\").drop_duplicates([\"GlobalJobId\"])\n",
    "# Now we group and count by Dataset, and filter out the datasets that appear on only one job. \n",
    "grouped_data = condor_df.groupby(\"CMSPrimaryPrimaryDataset\").count()\\\n",
    "                        .where(\"count>1\")\\\n",
    "                        .orderBy(\"count\", ascending=False)\n",
    "# We only want the top datasets, so we can limit the result before transfering\n",
    "grouped_data.limit(500).toPandas()"
   ]
  },
  {
   "cell_type": "code",
   "execution_count": null,
   "metadata": {},
   "outputs": [],
   "source": []
  }
 ],
 "metadata": {
  "kernelspec": {
   "display_name": "Python 3",
   "language": "python",
   "name": "python3"
  },
  "language_info": {
   "codemirror_mode": {
    "name": "ipython",
    "version": 3
   },
   "file_extension": ".py",
   "mimetype": "text/x-python",
   "name": "python",
   "nbconvert_exporter": "python",
   "pygments_lexer": "ipython3",
   "version": "3.6.5"
  },
  "sparkconnect": {
   "bundled_options": [],
   "list_of_options": [
    {
     "name": "spark.executor.memory",
     "value": "4g"
    },
    {
     "name": "spark.driver.memory",
     "value": "4g"
    },
    {
     "name": "spark.executor.instances",
     "value": "64"
    },
    {
     "name": "spark.executor.cores",
     "value": "4"
    }
   ]
  }
 },
 "nbformat": 4,
 "nbformat_minor": 2
}
